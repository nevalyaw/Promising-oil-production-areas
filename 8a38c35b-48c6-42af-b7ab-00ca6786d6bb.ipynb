{
 "cells": [
  {
   "cell_type": "markdown",
   "metadata": {},
   "source": [
    "# Выбор локации для скважины"
   ]
  },
  {
   "cell_type": "markdown",
   "metadata": {},
   "source": [
    "Допустим, вы работаете в добывающей компании «ГлавРосГосНефть». Нужно решить, где бурить новую скважину.\n",
    "\n",
    "Вам предоставлены пробы нефти в трёх регионах: в каждом 10 000 месторождений, где измерили качество нефти и объём её запасов. Постройте модель машинного обучения, которая поможет определить регион, где добыча принесёт наибольшую прибыль. Проанализируйте возможную прибыль и риски техникой *Bootstrap.*\n",
    "\n",
    "Шаги для выбора локации:\n",
    "\n",
    "- В избранном регионе ищут месторождения, для каждого определяют значения признаков;\n",
    "- Строят модель и оценивают объём запасов;\n",
    "- Выбирают месторождения с самым высокими оценками значений. Количество месторождений зависит от бюджета компании и стоимости разработки одной скважины;\n",
    "- Прибыль равна суммарной прибыли отобранных месторождений."
   ]
  },
  {
   "cell_type": "markdown",
   "metadata": {},
   "source": [
    "Некоторые уточнения: \n",
    "  - Для обучения модели подходит только линейная регрессия (остальные — недостаточно предсказуемые).\n",
    "  - При разведке региона исследуют 500 точек, из которых с помощью машинного обучения выбирают 200 лучших для разработки.\n",
    "  - Бюджет на разработку скважин в регионе — 10 млрд рублей.\n",
    "  - При нынешних ценах один баррель сырья приносит 450 рублей дохода. Доход с каждой единицы продукта составляет 450 тыс. рублей, поскольку объём указан в тысячах баррелей.\n",
    "  - После оценки рисков нужно оставить лишь те регионы, в которых вероятность убытков меньше 2.5%. Среди них выбирают регион с наибольшей средней прибылью.\n",
    "  \n",
    "# Цель исследования:\n",
    "\n",
    "  1) Изучить исходные данные.\\\n",
    "  2) Обработать данные при необходимости;\\\n",
    "  3) Обучить модель линейной регрессии.\\\n",
    "  4) Рассчитать прибыль по скважинам и предсказаниям.\\\n",
    "  5) Рассчитать прибыль и риски для каждого региона.\\\n",
    "  6) Написание итогового вывода.\n",
    "  \n",
    "# Ход исследования:\n",
    "  \n",
    "   Данные получим из файлов geo_data_0.csv, geo_data_1.csv, geo_data_2.csv. О качестве данных ничего не известно, поэтому необходимо будет тщательно изучить их.\n",
    "   \n",
    "   На этапе предобработки данных найдём все пропущенные значения, обработаем их, удалим явные выбросы, избавимся от дубликатов. После этого исследуем зависимости между параметрами, построим необходимые диаграммы и приступим к обучению модели по прогнозам.\n",
    "   \n",
    "   Таким образом, работа состоит из следующих этапов:\n",
    "   \n",
    "   - обзор полученных данных;\n",
    "   - предобработка данных;\n",
    "   - проведение анализа по конкретным столбцам;\n",
    "   - обучение моделей линейной регрессии;\n",
    "   - объяснение закономерностей предсказания модели;\n",
    "   - рассчитать прибыль и убытки для перспективных районов;\n",
    "   - написание общего вывода."
   ]
  },
  {
   "cell_type": "code",
   "execution_count": 24,
   "metadata": {},
   "outputs": [],
   "source": [
    "# Добавление необходимых библиотек:\n",
    "import warnings\n",
    "warnings.filterwarnings(\"ignore\", \"\\nPyarrow\", DeprecationWarning)\n",
    "import pandas as pd\n",
    "import numpy as np\n",
    "\n",
    "import matplotlib.pyplot as plt \n",
    "import seaborn as sns\n",
    "\n",
    "from scipy.stats import spearmanr\n",
    "\n",
    "from scipy import stats as st\n",
    "\n",
    "from sklearn.model_selection import train_test_split\n",
    "\n",
    "from sklearn.pipeline import Pipeline\n",
    "\n",
    "from sklearn.preprocessing import OneHotEncoder, OrdinalEncoder, LabelEncoder, StandardScaler, MinMaxScaler\n",
    "from sklearn.compose import ColumnTransformer\n",
    "\n",
    "from sklearn.impute import SimpleImputer\n",
    "\n",
    "from sklearn.metrics import roc_auc_score, make_scorer\n",
    "\n",
    "from sklearn.model_selection import GridSearchCV, cross_val_score\n",
    "\n",
    "from sklearn.linear_model import LinearRegression\n",
    "\n",
    "from sklearn.metrics import mean_squared_error as mse\n",
    "from math import sqrt"
   ]
  },
  {
   "cell_type": "markdown",
   "metadata": {},
   "source": [
    "## Загрузка и подготовка данных"
   ]
  },
  {
   "cell_type": "markdown",
   "metadata": {},
   "source": [
    "### Загрузка данных"
   ]
  },
  {
   "cell_type": "markdown",
   "metadata": {},
   "source": [
    "Загрузим данные из трёх таблиц, посомтрим на их внешний вид и общую информацию."
   ]
  },
  {
   "cell_type": "code",
   "execution_count": 25,
   "metadata": {},
   "outputs": [
    {
     "data": {
      "text/html": [
       "<div>\n",
       "<style scoped>\n",
       "    .dataframe tbody tr th:only-of-type {\n",
       "        vertical-align: middle;\n",
       "    }\n",
       "\n",
       "    .dataframe tbody tr th {\n",
       "        vertical-align: top;\n",
       "    }\n",
       "\n",
       "    .dataframe thead th {\n",
       "        text-align: right;\n",
       "    }\n",
       "</style>\n",
       "<table border=\"1\" class=\"dataframe\">\n",
       "  <thead>\n",
       "    <tr style=\"text-align: right;\">\n",
       "      <th></th>\n",
       "      <th>id</th>\n",
       "      <th>f0</th>\n",
       "      <th>f1</th>\n",
       "      <th>f2</th>\n",
       "      <th>product</th>\n",
       "    </tr>\n",
       "  </thead>\n",
       "  <tbody>\n",
       "    <tr>\n",
       "      <th>0</th>\n",
       "      <td>txEyH</td>\n",
       "      <td>0.705745</td>\n",
       "      <td>-0.497823</td>\n",
       "      <td>1.221170</td>\n",
       "      <td>105.280062</td>\n",
       "    </tr>\n",
       "    <tr>\n",
       "      <th>1</th>\n",
       "      <td>2acmU</td>\n",
       "      <td>1.334711</td>\n",
       "      <td>-0.340164</td>\n",
       "      <td>4.365080</td>\n",
       "      <td>73.037750</td>\n",
       "    </tr>\n",
       "    <tr>\n",
       "      <th>2</th>\n",
       "      <td>409Wp</td>\n",
       "      <td>1.022732</td>\n",
       "      <td>0.151990</td>\n",
       "      <td>1.419926</td>\n",
       "      <td>85.265647</td>\n",
       "    </tr>\n",
       "    <tr>\n",
       "      <th>3</th>\n",
       "      <td>iJLyR</td>\n",
       "      <td>-0.032172</td>\n",
       "      <td>0.139033</td>\n",
       "      <td>2.978566</td>\n",
       "      <td>168.620776</td>\n",
       "    </tr>\n",
       "    <tr>\n",
       "      <th>4</th>\n",
       "      <td>Xdl7t</td>\n",
       "      <td>1.988431</td>\n",
       "      <td>0.155413</td>\n",
       "      <td>4.751769</td>\n",
       "      <td>154.036647</td>\n",
       "    </tr>\n",
       "  </tbody>\n",
       "</table>\n",
       "</div>"
      ],
      "text/plain": [
       "      id        f0        f1        f2     product\n",
       "0  txEyH  0.705745 -0.497823  1.221170  105.280062\n",
       "1  2acmU  1.334711 -0.340164  4.365080   73.037750\n",
       "2  409Wp  1.022732  0.151990  1.419926   85.265647\n",
       "3  iJLyR -0.032172  0.139033  2.978566  168.620776\n",
       "4  Xdl7t  1.988431  0.155413  4.751769  154.036647"
      ]
     },
     "metadata": {},
     "output_type": "display_data"
    },
    {
     "name": "stdout",
     "output_type": "stream",
     "text": [
      "<class 'pandas.core.frame.DataFrame'>\n",
      "RangeIndex: 100000 entries, 0 to 99999\n",
      "Data columns (total 5 columns):\n",
      " #   Column   Non-Null Count   Dtype  \n",
      "---  ------   --------------   -----  \n",
      " 0   id       100000 non-null  object \n",
      " 1   f0       100000 non-null  float64\n",
      " 2   f1       100000 non-null  float64\n",
      " 3   f2       100000 non-null  float64\n",
      " 4   product  100000 non-null  float64\n",
      "dtypes: float64(4), object(1)\n",
      "memory usage: 3.8+ MB\n"
     ]
    },
    {
     "data": {
      "text/html": [
       "<div>\n",
       "<style scoped>\n",
       "    .dataframe tbody tr th:only-of-type {\n",
       "        vertical-align: middle;\n",
       "    }\n",
       "\n",
       "    .dataframe tbody tr th {\n",
       "        vertical-align: top;\n",
       "    }\n",
       "\n",
       "    .dataframe thead th {\n",
       "        text-align: right;\n",
       "    }\n",
       "</style>\n",
       "<table border=\"1\" class=\"dataframe\">\n",
       "  <thead>\n",
       "    <tr style=\"text-align: right;\">\n",
       "      <th></th>\n",
       "      <th>id</th>\n",
       "      <th>f0</th>\n",
       "      <th>f1</th>\n",
       "      <th>f2</th>\n",
       "      <th>product</th>\n",
       "    </tr>\n",
       "  </thead>\n",
       "  <tbody>\n",
       "    <tr>\n",
       "      <th>0</th>\n",
       "      <td>kBEdx</td>\n",
       "      <td>-15.001348</td>\n",
       "      <td>-8.276000</td>\n",
       "      <td>-0.005876</td>\n",
       "      <td>3.179103</td>\n",
       "    </tr>\n",
       "    <tr>\n",
       "      <th>1</th>\n",
       "      <td>62mP7</td>\n",
       "      <td>14.272088</td>\n",
       "      <td>-3.475083</td>\n",
       "      <td>0.999183</td>\n",
       "      <td>26.953261</td>\n",
       "    </tr>\n",
       "    <tr>\n",
       "      <th>2</th>\n",
       "      <td>vyE1P</td>\n",
       "      <td>6.263187</td>\n",
       "      <td>-5.948386</td>\n",
       "      <td>5.001160</td>\n",
       "      <td>134.766305</td>\n",
       "    </tr>\n",
       "    <tr>\n",
       "      <th>3</th>\n",
       "      <td>KcrkZ</td>\n",
       "      <td>-13.081196</td>\n",
       "      <td>-11.506057</td>\n",
       "      <td>4.999415</td>\n",
       "      <td>137.945408</td>\n",
       "    </tr>\n",
       "    <tr>\n",
       "      <th>4</th>\n",
       "      <td>AHL4O</td>\n",
       "      <td>12.702195</td>\n",
       "      <td>-8.147433</td>\n",
       "      <td>5.004363</td>\n",
       "      <td>134.766305</td>\n",
       "    </tr>\n",
       "  </tbody>\n",
       "</table>\n",
       "</div>"
      ],
      "text/plain": [
       "      id         f0         f1        f2     product\n",
       "0  kBEdx -15.001348  -8.276000 -0.005876    3.179103\n",
       "1  62mP7  14.272088  -3.475083  0.999183   26.953261\n",
       "2  vyE1P   6.263187  -5.948386  5.001160  134.766305\n",
       "3  KcrkZ -13.081196 -11.506057  4.999415  137.945408\n",
       "4  AHL4O  12.702195  -8.147433  5.004363  134.766305"
      ]
     },
     "metadata": {},
     "output_type": "display_data"
    },
    {
     "name": "stdout",
     "output_type": "stream",
     "text": [
      "<class 'pandas.core.frame.DataFrame'>\n",
      "RangeIndex: 100000 entries, 0 to 99999\n",
      "Data columns (total 5 columns):\n",
      " #   Column   Non-Null Count   Dtype  \n",
      "---  ------   --------------   -----  \n",
      " 0   id       100000 non-null  object \n",
      " 1   f0       100000 non-null  float64\n",
      " 2   f1       100000 non-null  float64\n",
      " 3   f2       100000 non-null  float64\n",
      " 4   product  100000 non-null  float64\n",
      "dtypes: float64(4), object(1)\n",
      "memory usage: 3.8+ MB\n"
     ]
    },
    {
     "data": {
      "text/html": [
       "<div>\n",
       "<style scoped>\n",
       "    .dataframe tbody tr th:only-of-type {\n",
       "        vertical-align: middle;\n",
       "    }\n",
       "\n",
       "    .dataframe tbody tr th {\n",
       "        vertical-align: top;\n",
       "    }\n",
       "\n",
       "    .dataframe thead th {\n",
       "        text-align: right;\n",
       "    }\n",
       "</style>\n",
       "<table border=\"1\" class=\"dataframe\">\n",
       "  <thead>\n",
       "    <tr style=\"text-align: right;\">\n",
       "      <th></th>\n",
       "      <th>id</th>\n",
       "      <th>f0</th>\n",
       "      <th>f1</th>\n",
       "      <th>f2</th>\n",
       "      <th>product</th>\n",
       "    </tr>\n",
       "  </thead>\n",
       "  <tbody>\n",
       "    <tr>\n",
       "      <th>0</th>\n",
       "      <td>fwXo0</td>\n",
       "      <td>-1.146987</td>\n",
       "      <td>0.963328</td>\n",
       "      <td>-0.828965</td>\n",
       "      <td>27.758673</td>\n",
       "    </tr>\n",
       "    <tr>\n",
       "      <th>1</th>\n",
       "      <td>WJtFt</td>\n",
       "      <td>0.262778</td>\n",
       "      <td>0.269839</td>\n",
       "      <td>-2.530187</td>\n",
       "      <td>56.069697</td>\n",
       "    </tr>\n",
       "    <tr>\n",
       "      <th>2</th>\n",
       "      <td>ovLUW</td>\n",
       "      <td>0.194587</td>\n",
       "      <td>0.289035</td>\n",
       "      <td>-5.586433</td>\n",
       "      <td>62.871910</td>\n",
       "    </tr>\n",
       "    <tr>\n",
       "      <th>3</th>\n",
       "      <td>q6cA6</td>\n",
       "      <td>2.236060</td>\n",
       "      <td>-0.553760</td>\n",
       "      <td>0.930038</td>\n",
       "      <td>114.572842</td>\n",
       "    </tr>\n",
       "    <tr>\n",
       "      <th>4</th>\n",
       "      <td>WPMUX</td>\n",
       "      <td>-0.515993</td>\n",
       "      <td>1.716266</td>\n",
       "      <td>5.899011</td>\n",
       "      <td>149.600746</td>\n",
       "    </tr>\n",
       "  </tbody>\n",
       "</table>\n",
       "</div>"
      ],
      "text/plain": [
       "      id        f0        f1        f2     product\n",
       "0  fwXo0 -1.146987  0.963328 -0.828965   27.758673\n",
       "1  WJtFt  0.262778  0.269839 -2.530187   56.069697\n",
       "2  ovLUW  0.194587  0.289035 -5.586433   62.871910\n",
       "3  q6cA6  2.236060 -0.553760  0.930038  114.572842\n",
       "4  WPMUX -0.515993  1.716266  5.899011  149.600746"
      ]
     },
     "metadata": {},
     "output_type": "display_data"
    },
    {
     "name": "stdout",
     "output_type": "stream",
     "text": [
      "<class 'pandas.core.frame.DataFrame'>\n",
      "RangeIndex: 100000 entries, 0 to 99999\n",
      "Data columns (total 5 columns):\n",
      " #   Column   Non-Null Count   Dtype  \n",
      "---  ------   --------------   -----  \n",
      " 0   id       100000 non-null  object \n",
      " 1   f0       100000 non-null  float64\n",
      " 2   f1       100000 non-null  float64\n",
      " 3   f2       100000 non-null  float64\n",
      " 4   product  100000 non-null  float64\n",
      "dtypes: float64(4), object(1)\n",
      "memory usage: 3.8+ MB\n"
     ]
    }
   ],
   "source": [
    "# Загрузка данных:\n",
    "set_0 = pd.read_csv('/datasets/geo_data_0.csv')\n",
    "set_1 = pd.read_csv('/datasets/geo_data_1.csv')\n",
    "set_2 = pd.read_csv('/datasets/geo_data_2.csv')\n",
    "\n",
    "display(set_0.head())\n",
    "set_0.info()\n",
    "display(set_1.head())\n",
    "set_1.info()\n",
    "display(set_2.head())\n",
    "set_2.info()"
   ]
  },
  {
   "cell_type": "markdown",
   "metadata": {},
   "source": [
    "#### Промежуточный вывод:\n",
    "Видим, что таблицы равны между собой: в каждой по 5 столбцов и 100000 строк; также не наблюдается пропущенных значений. Типы данных корректны, названия столбцов изменять не нужно."
   ]
  },
  {
   "cell_type": "markdown",
   "metadata": {},
   "source": [
    "В особой предобработке данные не нуждаются. Остаётся проверить их на явные и неявные дубликаты."
   ]
  },
  {
   "cell_type": "code",
   "execution_count": 26,
   "metadata": {},
   "outputs": [
    {
     "name": "stdout",
     "output_type": "stream",
     "text": [
      "Дубликатов в первой таблице: 0\n",
      "Дубликатов во второй таблице: 0\n",
      "Дубликатов в третьей таблице: 0\n"
     ]
    }
   ],
   "source": [
    "# Проверка на явные дубликаты:\n",
    "print('Дубликатов в первой таблице:', set_0.duplicated().sum())\n",
    "print('Дубликатов во второй таблице:', set_1.duplicated().sum())\n",
    "print('Дубликатов в третьей таблице:', set_2.duplicated().sum())"
   ]
  },
  {
   "cell_type": "code",
   "execution_count": 27,
   "metadata": {},
   "outputs": [
    {
     "name": "stdout",
     "output_type": "stream",
     "text": [
      "Дубликатов в первой таблице: 10\n",
      "Дубликатов во второй таблице: 4\n",
      "Дубликатов в третьей таблице: 4\n"
     ]
    }
   ],
   "source": [
    "# Проверка на неявные дубликаты:\n",
    "print('Дубликатов в первой таблице:', set_0['id'].duplicated().sum())\n",
    "print('Дубликатов во второй таблице:', set_1['id'].duplicated().sum())\n",
    "print('Дубликатов в третьей таблице:', set_2['id'].duplicated().sum())"
   ]
  },
  {
   "cell_type": "markdown",
   "metadata": {},
   "source": [
    "Обнаружено несколько неявных дубликатов, удалим их."
   ]
  },
  {
   "cell_type": "code",
   "execution_count": 28,
   "metadata": {},
   "outputs": [
    {
     "data": {
      "text/html": [
       "<div>\n",
       "<style scoped>\n",
       "    .dataframe tbody tr th:only-of-type {\n",
       "        vertical-align: middle;\n",
       "    }\n",
       "\n",
       "    .dataframe tbody tr th {\n",
       "        vertical-align: top;\n",
       "    }\n",
       "\n",
       "    .dataframe thead th {\n",
       "        text-align: right;\n",
       "    }\n",
       "</style>\n",
       "<table border=\"1\" class=\"dataframe\">\n",
       "  <thead>\n",
       "    <tr style=\"text-align: right;\">\n",
       "      <th></th>\n",
       "      <th>id</th>\n",
       "      <th>f0</th>\n",
       "      <th>f1</th>\n",
       "      <th>f2</th>\n",
       "      <th>product</th>\n",
       "    </tr>\n",
       "  </thead>\n",
       "  <tbody>\n",
       "    <tr>\n",
       "      <th>7530</th>\n",
       "      <td>HZww2</td>\n",
       "      <td>1.061194</td>\n",
       "      <td>-0.373969</td>\n",
       "      <td>10.430210</td>\n",
       "      <td>158.828695</td>\n",
       "    </tr>\n",
       "    <tr>\n",
       "      <th>41724</th>\n",
       "      <td>bxg6G</td>\n",
       "      <td>-0.823752</td>\n",
       "      <td>0.546319</td>\n",
       "      <td>3.630479</td>\n",
       "      <td>93.007798</td>\n",
       "    </tr>\n",
       "    <tr>\n",
       "      <th>51970</th>\n",
       "      <td>A5aEY</td>\n",
       "      <td>-0.180335</td>\n",
       "      <td>0.935548</td>\n",
       "      <td>-2.094773</td>\n",
       "      <td>33.020205</td>\n",
       "    </tr>\n",
       "    <tr>\n",
       "      <th>63593</th>\n",
       "      <td>QcMuo</td>\n",
       "      <td>0.635635</td>\n",
       "      <td>-0.473422</td>\n",
       "      <td>0.862670</td>\n",
       "      <td>64.578675</td>\n",
       "    </tr>\n",
       "    <tr>\n",
       "      <th>66136</th>\n",
       "      <td>74z30</td>\n",
       "      <td>1.084962</td>\n",
       "      <td>-0.312358</td>\n",
       "      <td>6.990771</td>\n",
       "      <td>127.643327</td>\n",
       "    </tr>\n",
       "    <tr>\n",
       "      <th>69163</th>\n",
       "      <td>AGS9W</td>\n",
       "      <td>-0.933795</td>\n",
       "      <td>0.116194</td>\n",
       "      <td>-3.655896</td>\n",
       "      <td>19.230453</td>\n",
       "    </tr>\n",
       "    <tr>\n",
       "      <th>75715</th>\n",
       "      <td>Tdehs</td>\n",
       "      <td>0.112079</td>\n",
       "      <td>0.430296</td>\n",
       "      <td>3.218993</td>\n",
       "      <td>60.964018</td>\n",
       "    </tr>\n",
       "    <tr>\n",
       "      <th>90815</th>\n",
       "      <td>fiKDv</td>\n",
       "      <td>0.049883</td>\n",
       "      <td>0.841313</td>\n",
       "      <td>6.394613</td>\n",
       "      <td>137.346586</td>\n",
       "    </tr>\n",
       "    <tr>\n",
       "      <th>92341</th>\n",
       "      <td>TtcGQ</td>\n",
       "      <td>0.110711</td>\n",
       "      <td>1.022689</td>\n",
       "      <td>0.911381</td>\n",
       "      <td>101.318008</td>\n",
       "    </tr>\n",
       "    <tr>\n",
       "      <th>97785</th>\n",
       "      <td>bsk9y</td>\n",
       "      <td>0.378429</td>\n",
       "      <td>0.005837</td>\n",
       "      <td>0.160827</td>\n",
       "      <td>160.637302</td>\n",
       "    </tr>\n",
       "  </tbody>\n",
       "</table>\n",
       "</div>"
      ],
      "text/plain": [
       "          id        f0        f1         f2     product\n",
       "7530   HZww2  1.061194 -0.373969  10.430210  158.828695\n",
       "41724  bxg6G -0.823752  0.546319   3.630479   93.007798\n",
       "51970  A5aEY -0.180335  0.935548  -2.094773   33.020205\n",
       "63593  QcMuo  0.635635 -0.473422   0.862670   64.578675\n",
       "66136  74z30  1.084962 -0.312358   6.990771  127.643327\n",
       "69163  AGS9W -0.933795  0.116194  -3.655896   19.230453\n",
       "75715  Tdehs  0.112079  0.430296   3.218993   60.964018\n",
       "90815  fiKDv  0.049883  0.841313   6.394613  137.346586\n",
       "92341  TtcGQ  0.110711  1.022689   0.911381  101.318008\n",
       "97785  bsk9y  0.378429  0.005837   0.160827  160.637302"
      ]
     },
     "metadata": {},
     "output_type": "display_data"
    },
    {
     "data": {
      "text/html": [
       "<div>\n",
       "<style scoped>\n",
       "    .dataframe tbody tr th:only-of-type {\n",
       "        vertical-align: middle;\n",
       "    }\n",
       "\n",
       "    .dataframe tbody tr th {\n",
       "        vertical-align: top;\n",
       "    }\n",
       "\n",
       "    .dataframe thead th {\n",
       "        text-align: right;\n",
       "    }\n",
       "</style>\n",
       "<table border=\"1\" class=\"dataframe\">\n",
       "  <thead>\n",
       "    <tr style=\"text-align: right;\">\n",
       "      <th></th>\n",
       "      <th>id</th>\n",
       "      <th>f0</th>\n",
       "      <th>f1</th>\n",
       "      <th>f2</th>\n",
       "      <th>product</th>\n",
       "    </tr>\n",
       "  </thead>\n",
       "  <tbody>\n",
       "    <tr>\n",
       "      <th>41906</th>\n",
       "      <td>LHZR0</td>\n",
       "      <td>-8.989672</td>\n",
       "      <td>-4.286607</td>\n",
       "      <td>2.009139</td>\n",
       "      <td>57.085625</td>\n",
       "    </tr>\n",
       "    <tr>\n",
       "      <th>82178</th>\n",
       "      <td>bfPNe</td>\n",
       "      <td>-6.202799</td>\n",
       "      <td>-4.820045</td>\n",
       "      <td>2.995107</td>\n",
       "      <td>84.038886</td>\n",
       "    </tr>\n",
       "    <tr>\n",
       "      <th>82873</th>\n",
       "      <td>wt4Uk</td>\n",
       "      <td>10.259972</td>\n",
       "      <td>-9.376355</td>\n",
       "      <td>4.994297</td>\n",
       "      <td>134.766305</td>\n",
       "    </tr>\n",
       "    <tr>\n",
       "      <th>84461</th>\n",
       "      <td>5ltQ6</td>\n",
       "      <td>18.213839</td>\n",
       "      <td>2.191999</td>\n",
       "      <td>3.993869</td>\n",
       "      <td>107.813044</td>\n",
       "    </tr>\n",
       "  </tbody>\n",
       "</table>\n",
       "</div>"
      ],
      "text/plain": [
       "          id         f0        f1        f2     product\n",
       "41906  LHZR0  -8.989672 -4.286607  2.009139   57.085625\n",
       "82178  bfPNe  -6.202799 -4.820045  2.995107   84.038886\n",
       "82873  wt4Uk  10.259972 -9.376355  4.994297  134.766305\n",
       "84461  5ltQ6  18.213839  2.191999  3.993869  107.813044"
      ]
     },
     "metadata": {},
     "output_type": "display_data"
    },
    {
     "data": {
      "text/html": [
       "<div>\n",
       "<style scoped>\n",
       "    .dataframe tbody tr th:only-of-type {\n",
       "        vertical-align: middle;\n",
       "    }\n",
       "\n",
       "    .dataframe tbody tr th {\n",
       "        vertical-align: top;\n",
       "    }\n",
       "\n",
       "    .dataframe thead th {\n",
       "        text-align: right;\n",
       "    }\n",
       "</style>\n",
       "<table border=\"1\" class=\"dataframe\">\n",
       "  <thead>\n",
       "    <tr style=\"text-align: right;\">\n",
       "      <th></th>\n",
       "      <th>id</th>\n",
       "      <th>f0</th>\n",
       "      <th>f1</th>\n",
       "      <th>f2</th>\n",
       "      <th>product</th>\n",
       "    </tr>\n",
       "  </thead>\n",
       "  <tbody>\n",
       "    <tr>\n",
       "      <th>43233</th>\n",
       "      <td>xCHr8</td>\n",
       "      <td>-0.847066</td>\n",
       "      <td>2.101796</td>\n",
       "      <td>5.597130</td>\n",
       "      <td>184.388641</td>\n",
       "    </tr>\n",
       "    <tr>\n",
       "      <th>49564</th>\n",
       "      <td>VF7Jo</td>\n",
       "      <td>-0.883115</td>\n",
       "      <td>0.560537</td>\n",
       "      <td>0.723601</td>\n",
       "      <td>136.233420</td>\n",
       "    </tr>\n",
       "    <tr>\n",
       "      <th>55967</th>\n",
       "      <td>KUPhW</td>\n",
       "      <td>1.211150</td>\n",
       "      <td>3.176408</td>\n",
       "      <td>5.543540</td>\n",
       "      <td>132.831802</td>\n",
       "    </tr>\n",
       "    <tr>\n",
       "      <th>95090</th>\n",
       "      <td>Vcm5J</td>\n",
       "      <td>2.587702</td>\n",
       "      <td>1.986875</td>\n",
       "      <td>2.482245</td>\n",
       "      <td>92.327572</td>\n",
       "    </tr>\n",
       "  </tbody>\n",
       "</table>\n",
       "</div>"
      ],
      "text/plain": [
       "          id        f0        f1        f2     product\n",
       "43233  xCHr8 -0.847066  2.101796  5.597130  184.388641\n",
       "49564  VF7Jo -0.883115  0.560537  0.723601  136.233420\n",
       "55967  KUPhW  1.211150  3.176408  5.543540  132.831802\n",
       "95090  Vcm5J  2.587702  1.986875  2.482245   92.327572"
      ]
     },
     "metadata": {},
     "output_type": "display_data"
    }
   ],
   "source": [
    "# Смотрим дубликаты:\n",
    "display(set_0[set_0.duplicated(['id'])])\n",
    "display(set_1[set_1.duplicated(['id'])])\n",
    "display(set_2[set_2['id'].duplicated()])"
   ]
  },
  {
   "cell_type": "markdown",
   "metadata": {},
   "source": [
    "Ничего необычного, просто удаляем их."
   ]
  },
  {
   "cell_type": "code",
   "execution_count": 29,
   "metadata": {},
   "outputs": [
    {
     "name": "stdout",
     "output_type": "stream",
     "text": [
      "Дубликатов в первой таблице: 0\n",
      "Дубликатов во второй таблице: 0\n",
      "Дубликатов в третьей таблице: 0\n"
     ]
    }
   ],
   "source": [
    "# Удаляем дубликаты:\n",
    "set_0 = set_0.drop_duplicates(['id'])\n",
    "set_1 = set_1.drop_duplicates(['id'])\n",
    "set_2 = set_2.drop_duplicates(['id'])\n",
    "\n",
    "print('Дубликатов в первой таблице:', set_0['id'].duplicated().sum())\n",
    "print('Дубликатов во второй таблице:', set_1['id'].duplicated().sum())\n",
    "print('Дубликатов в третьей таблице:', set_2['id'].duplicated().sum())"
   ]
  },
  {
   "cell_type": "markdown",
   "metadata": {},
   "source": [
    "Ввиду специфичности данных, вряд ли получится объективно оценить их правдоподобность, однако на распределение данных всё же посмотрим."
   ]
  },
  {
   "cell_type": "markdown",
   "metadata": {},
   "source": [
    "Для датафрейма set_0:"
   ]
  },
  {
   "cell_type": "code",
   "execution_count": 30,
   "metadata": {},
   "outputs": [
    {
     "data": {
      "image/png": "[encoded data removed]",
      "text/plain": [
       "<Figure size 1440x1080 with 1 Axes>"
      ]
     },
     "metadata": {
      "needs_background": "light"
     },
     "output_type": "display_data"
    }
   ],
   "source": [
    "# Гистограмма по f0:\n",
    "set_0.hist(column='f0', bins=20, figsize=(20, 15))\n",
    "plt.title('График размаха по f0 для первой таблицы', fontsize=25)\n",
    "plt.ylabel('Количество объектов', fontsize=25)\n",
    "plt.xlabel('Значения f0', fontsize=25)\n",
    "plt.show()"
   ]
  },
  {
   "cell_type": "code",
   "execution_count": 31,
   "metadata": {},
   "outputs": [
    {
     "data": {
      "image/png": "[encoded data removed]",
      "text/plain": [
       "<Figure size 1440x1080 with 1 Axes>"
      ]
     },
     "metadata": {
      "needs_background": "light"
     },
     "output_type": "display_data"
    }
   ],
   "source": [
    "# Гистограмма по f1:\n",
    "set_0.hist(column='f1', bins=20, figsize=(20, 15))\n",
    "plt.title('График размаха по f1 для первой таблицы', fontsize=25)\n",
    "plt.ylabel('Количество объектов', fontsize=25)\n",
    "plt.xlabel('Значения f1', fontsize=25)\n",
    "plt.show()"
   ]
  },
  {
   "cell_type": "code",
   "execution_count": 32,
   "metadata": {},
   "outputs": [
    {
     "data": {
      "image/png": "[encoded data removed]",
      "text/plain": [
       "<Figure size 1440x1080 with 1 Axes>"
      ]
     },
     "metadata": {
      "needs_background": "light"
     },
     "output_type": "display_data"
    }
   ],
   "source": [
    "# Гистограмма по f2:\n",
    "set_0.hist(column='f2', bins=20, figsize=(20, 15))\n",
    "plt.title('График размаха по f2 для первой таблицы', fontsize=25)\n",
    "plt.ylabel('Количество объектов', fontsize=25)\n",
    "plt.xlabel('Значения f2', fontsize=25)\n",
    "plt.show()"
   ]
  },
  {
   "cell_type": "code",
   "execution_count": 33,
   "metadata": {},
   "outputs": [
    {
     "data": {
      "image/png": "[encoded data removed]",
      "text/plain": [
       "<Figure size 1440x1080 with 1 Axes>"
      ]
     },
     "metadata": {
      "needs_background": "light"
     },
     "output_type": "display_data"
    }
   ],
   "source": [
    "# Гистограмма по product:\n",
    "set_0.hist(column='product', bins=20, figsize=(20, 15))\n",
    "plt.title('График размаха по объёму запасов для первой таблицы', fontsize=25)\n",
    "plt.ylabel('Количество объектов', fontsize=25)\n",
    "plt.xlabel('Запасы', fontsize=25)\n",
    "plt.show()"
   ]
  },
  {
   "cell_type": "markdown",
   "metadata": {},
   "source": [
    "По первой таблице наблюдаем следующую картину: f0 и f1 распредены симметрично относительно своих центров, но нормальными распределениями не являются; f2 классическое нормальное распределение. Запасы распределены симметрично со множеством выбросов."
   ]
  },
  {
   "cell_type": "markdown",
   "metadata": {},
   "source": [
    "Для датафрейма set_1:"
   ]
  },
  {
   "cell_type": "code",
   "execution_count": 34,
   "metadata": {},
   "outputs": [
    {
     "data": {
      "image/png": "[encoded data removed]",
      "text/plain": [
       "<Figure size 1440x1080 with 1 Axes>"
      ]
     },
     "metadata": {
      "needs_background": "light"
     },
     "output_type": "display_data"
    }
   ],
   "source": [
    "# Гистограмма по f0:\n",
    "set_1.hist(column='f0', bins=20, figsize=(20, 15))\n",
    "plt.title('График размаха по f0 для второй таблицы', fontsize=25)\n",
    "plt.ylabel('Количество объектов', fontsize=25)\n",
    "plt.xlabel('Значения f0', fontsize=25)\n",
    "plt.show()"
   ]
  },
  {
   "cell_type": "code",
   "execution_count": 35,
   "metadata": {},
   "outputs": [
    {
     "data": {
      "image/png": "[encoded data removed]",
      "text/plain": [
       "<Figure size 1440x1080 with 1 Axes>"
      ]
     },
     "metadata": {
      "needs_background": "light"
     },
     "output_type": "display_data"
    }
   ],
   "source": [
    "# Гистограмма по f1:\n",
    "set_1.hist(column='f1', bins=20, figsize=(20, 15))\n",
    "plt.title('График размаха по f1 для второй таблицы', fontsize=25)\n",
    "plt.ylabel('Количество объектов', fontsize=25)\n",
    "plt.xlabel('Значения f1', fontsize=25)\n",
    "plt.show()"
   ]
  },
  {
   "cell_type": "code",
   "execution_count": 36,
   "metadata": {
    "scrolled": false
   },
   "outputs": [
    {
     "data": {
      "image/png": "[encoded data removed]",
      "text/plain": [
       "<Figure size 1440x1080 with 1 Axes>"
      ]
     },
     "metadata": {
      "needs_background": "light"
     },
     "output_type": "display_data"
    }
   ],
   "source": [
    "# Гистограмма по f2:\n",
    "set_1.hist(column='f2', bins=20, figsize=(20, 15))\n",
    "plt.title('График размаха по f2 для второй таблицы', fontsize=25)\n",
    "plt.ylabel('Количество объектов', fontsize=25)\n",
    "plt.xlabel('Значения f2', fontsize=25)\n",
    "plt.show()"
   ]
  },
  {
   "cell_type": "code",
   "execution_count": 37,
   "metadata": {},
   "outputs": [
    {
     "data": {
      "image/png": "[encoded data removed]",
      "text/plain": [
       "<Figure size 1440x1080 with 1 Axes>"
      ]
     },
     "metadata": {
      "needs_background": "light"
     },
     "output_type": "display_data"
    }
   ],
   "source": [
    "# Гистограмма по product:\n",
    "set_1.hist(column='product', bins=20, figsize=(20, 15))\n",
    "plt.title('График размаха по объёмам запасов для второй таблицы', fontsize=25)\n",
    "plt.ylabel('Количество объектов', fontsize=25)\n",
    "plt.xlabel('Запасы', fontsize=25)\n",
    "plt.show()"
   ]
  },
  {
   "cell_type": "markdown",
   "metadata": {},
   "source": [
    "Со второй таблицей ситуация обратная: нормальное распределение наблюдается у f1, также у f0 распределение напоминает нормальное с некоторыми выбросами, а вот f2 просто распределено вокруг целых чисел. Запасы распределены аналогично f2."
   ]
  },
  {
   "cell_type": "markdown",
   "metadata": {},
   "source": [
    "Для датафрейма set_2:"
   ]
  },
  {
   "cell_type": "code",
   "execution_count": 38,
   "metadata": {},
   "outputs": [
    {
     "data": {
      "image/png": "[encoded data removed]",
      "text/plain": [
       "<Figure size 1440x1080 with 1 Axes>"
      ]
     },
     "metadata": {
      "needs_background": "light"
     },
     "output_type": "display_data"
    }
   ],
   "source": [
    "# Гистограмма по f0:\n",
    "set_2.hist(column='f0', bins=20, figsize=(20, 15))\n",
    "plt.title('График размаха по f0 для третьей таблицы', fontsize=25)\n",
    "plt.ylabel('Количество объектов', fontsize=25)\n",
    "plt.xlabel('Значения f0', fontsize=25)\n",
    "plt.show()"
   ]
  },
  {
   "cell_type": "code",
   "execution_count": 39,
   "metadata": {},
   "outputs": [
    {
     "data": {
      "image/png": "[encoded data removed]",
      "text/plain": [
       "<Figure size 1440x1080 with 1 Axes>"
      ]
     },
     "metadata": {
      "needs_background": "light"
     },
     "output_type": "display_data"
    }
   ],
   "source": [
    "# Гистограмма по f1:\n",
    "set_2.hist(column='f1', bins=20, figsize=(20, 15))\n",
    "plt.title('График размаха по f1 для третьей таблицы', fontsize=25)\n",
    "plt.ylabel('Количество объектов', fontsize=25)\n",
    "plt.xlabel('Значения f1', fontsize=25)\n",
    "plt.show()"
   ]
  },
  {
   "cell_type": "code",
   "execution_count": 40,
   "metadata": {},
   "outputs": [
    {
     "data": {
      "image/png": "[encoded data removed]",
      "text/plain": [
       "<Figure size 1440x1080 with 1 Axes>"
      ]
     },
     "metadata": {
      "needs_background": "light"
     },
     "output_type": "display_data"
    }
   ],
   "source": [
    "# Гистограмма по f2:\n",
    "set_2.hist(column='f2', bins=20, figsize=(20, 15))\n",
    "plt.title('График размаха по f2 для третьей таблицы', fontsize=25)\n",
    "plt.ylabel('Количество объектов', fontsize=25)\n",
    "plt.xlabel('Значения f2', fontsize=25)\n",
    "plt.show()"
   ]
  },
  {
   "cell_type": "code",
   "execution_count": 41,
   "metadata": {},
   "outputs": [
    {
     "data": {
      "image/png": "[encoded data removed]",
      "text/plain": [
       "<Figure size 1440x1080 with 1 Axes>"
      ]
     },
     "metadata": {
      "needs_background": "light"
     },
     "output_type": "display_data"
    }
   ],
   "source": [
    "# Гистограмма по product:\n",
    "set_2.hist(column='product', bins=20, figsize=(20, 15))\n",
    "plt.title('График размаха по объёмам запасов для третьей таблицы', fontsize=25)\n",
    "plt.ylabel('Количество объектов', fontsize=25)\n",
    "plt.xlabel('Запасы', fontsize=25)\n",
    "plt.show()"
   ]
  },
  {
   "cell_type": "markdown",
   "metadata": {},
   "source": [
    "В третьей таблице все параметры распределены нормально. Распределение запасов аналогично первой таблице."
   ]
  },
  {
   "cell_type": "markdown",
   "metadata": {},
   "source": [
    "### Вывод:\n",
    "В ходе выполнения этой части работы раскрыли потсупившие данные, обработали неявные дубликаты в них, а также исследовали распределение известных величин.\n",
    "\n",
    "Данные обработаны в полной мере, можно приступать к их подготовке для обучения модели."
   ]
  },
  {
   "cell_type": "markdown",
   "metadata": {},
   "source": [
    "## Обучение и проверка модели"
   ]
  },
  {
   "cell_type": "markdown",
   "metadata": {},
   "source": [
    "Имеем данные для трёх регионов. Значит, необходимо обучить 3 модели, по 1 на каждый. \n",
    "\n",
    "Необходимо разбить каждый сет на тренировочную и валидационную выборки, создать пайплайны для подготовки данных, обучить 3 модели линейной регрессии.\n",
    "\n",
    "После этого занесём предсказания в таблицы и сравним с исходными данными, посчитаем метрику RMSE."
   ]
  },
  {
   "cell_type": "code",
   "execution_count": 42,
   "metadata": {},
   "outputs": [
    {
     "data": {
      "text/html": [
       "<div>\n",
       "<style scoped>\n",
       "    .dataframe tbody tr th:only-of-type {\n",
       "        vertical-align: middle;\n",
       "    }\n",
       "\n",
       "    .dataframe tbody tr th {\n",
       "        vertical-align: top;\n",
       "    }\n",
       "\n",
       "    .dataframe thead th {\n",
       "        text-align: right;\n",
       "    }\n",
       "</style>\n",
       "<table border=\"1\" class=\"dataframe\">\n",
       "  <thead>\n",
       "    <tr style=\"text-align: right;\">\n",
       "      <th></th>\n",
       "      <th>id</th>\n",
       "      <th>f0</th>\n",
       "      <th>f1</th>\n",
       "      <th>f2</th>\n",
       "      <th>product</th>\n",
       "    </tr>\n",
       "  </thead>\n",
       "  <tbody>\n",
       "    <tr>\n",
       "      <th>0</th>\n",
       "      <td>txEyH</td>\n",
       "      <td>0.705745</td>\n",
       "      <td>-0.497823</td>\n",
       "      <td>1.221170</td>\n",
       "      <td>105.280062</td>\n",
       "    </tr>\n",
       "    <tr>\n",
       "      <th>1</th>\n",
       "      <td>2acmU</td>\n",
       "      <td>1.334711</td>\n",
       "      <td>-0.340164</td>\n",
       "      <td>4.365080</td>\n",
       "      <td>73.037750</td>\n",
       "    </tr>\n",
       "    <tr>\n",
       "      <th>2</th>\n",
       "      <td>409Wp</td>\n",
       "      <td>1.022732</td>\n",
       "      <td>0.151990</td>\n",
       "      <td>1.419926</td>\n",
       "      <td>85.265647</td>\n",
       "    </tr>\n",
       "    <tr>\n",
       "      <th>3</th>\n",
       "      <td>iJLyR</td>\n",
       "      <td>-0.032172</td>\n",
       "      <td>0.139033</td>\n",
       "      <td>2.978566</td>\n",
       "      <td>168.620776</td>\n",
       "    </tr>\n",
       "    <tr>\n",
       "      <th>4</th>\n",
       "      <td>Xdl7t</td>\n",
       "      <td>1.988431</td>\n",
       "      <td>0.155413</td>\n",
       "      <td>4.751769</td>\n",
       "      <td>154.036647</td>\n",
       "    </tr>\n",
       "  </tbody>\n",
       "</table>\n",
       "</div>"
      ],
      "text/plain": [
       "      id        f0        f1        f2     product\n",
       "0  txEyH  0.705745 -0.497823  1.221170  105.280062\n",
       "1  2acmU  1.334711 -0.340164  4.365080   73.037750\n",
       "2  409Wp  1.022732  0.151990  1.419926   85.265647\n",
       "3  iJLyR -0.032172  0.139033  2.978566  168.620776\n",
       "4  Xdl7t  1.988431  0.155413  4.751769  154.036647"
      ]
     },
     "metadata": {},
     "output_type": "display_data"
    }
   ],
   "source": [
    "# Напомним, как выглядят данные:\n",
    "display(set_0.head())"
   ]
  },
  {
   "cell_type": "code",
   "execution_count": 43,
   "metadata": {},
   "outputs": [
    {
     "data": {
      "text/html": [
       "<div>\n",
       "<style scoped>\n",
       "    .dataframe tbody tr th:only-of-type {\n",
       "        vertical-align: middle;\n",
       "    }\n",
       "\n",
       "    .dataframe tbody tr th {\n",
       "        vertical-align: top;\n",
       "    }\n",
       "\n",
       "    .dataframe thead th {\n",
       "        text-align: right;\n",
       "    }\n",
       "</style>\n",
       "<table border=\"1\" class=\"dataframe\">\n",
       "  <thead>\n",
       "    <tr style=\"text-align: right;\">\n",
       "      <th></th>\n",
       "      <th>f0</th>\n",
       "      <th>f1</th>\n",
       "      <th>f2</th>\n",
       "      <th>product</th>\n",
       "    </tr>\n",
       "    <tr>\n",
       "      <th>id</th>\n",
       "      <th></th>\n",
       "      <th></th>\n",
       "      <th></th>\n",
       "      <th></th>\n",
       "    </tr>\n",
       "  </thead>\n",
       "  <tbody>\n",
       "    <tr>\n",
       "      <th>txEyH</th>\n",
       "      <td>0.705745</td>\n",
       "      <td>-0.497823</td>\n",
       "      <td>1.221170</td>\n",
       "      <td>105.280062</td>\n",
       "    </tr>\n",
       "    <tr>\n",
       "      <th>2acmU</th>\n",
       "      <td>1.334711</td>\n",
       "      <td>-0.340164</td>\n",
       "      <td>4.365080</td>\n",
       "      <td>73.037750</td>\n",
       "    </tr>\n",
       "    <tr>\n",
       "      <th>409Wp</th>\n",
       "      <td>1.022732</td>\n",
       "      <td>0.151990</td>\n",
       "      <td>1.419926</td>\n",
       "      <td>85.265647</td>\n",
       "    </tr>\n",
       "    <tr>\n",
       "      <th>iJLyR</th>\n",
       "      <td>-0.032172</td>\n",
       "      <td>0.139033</td>\n",
       "      <td>2.978566</td>\n",
       "      <td>168.620776</td>\n",
       "    </tr>\n",
       "    <tr>\n",
       "      <th>Xdl7t</th>\n",
       "      <td>1.988431</td>\n",
       "      <td>0.155413</td>\n",
       "      <td>4.751769</td>\n",
       "      <td>154.036647</td>\n",
       "    </tr>\n",
       "  </tbody>\n",
       "</table>\n",
       "</div>"
      ],
      "text/plain": [
       "             f0        f1        f2     product\n",
       "id                                             \n",
       "txEyH  0.705745 -0.497823  1.221170  105.280062\n",
       "2acmU  1.334711 -0.340164  4.365080   73.037750\n",
       "409Wp  1.022732  0.151990  1.419926   85.265647\n",
       "iJLyR -0.032172  0.139033  2.978566  168.620776\n",
       "Xdl7t  1.988431  0.155413  4.751769  154.036647"
      ]
     },
     "metadata": {},
     "output_type": "display_data"
    }
   ],
   "source": [
    "# Сделаем id локации новыми индексами:\n",
    "set_0 = set_0.set_index('id')\n",
    "set_1 = set_1.set_index('id')\n",
    "set_2 = set_2.set_index('id')\n",
    "\n",
    "display(set_0.head())"
   ]
  },
  {
   "cell_type": "code",
   "execution_count": 44,
   "metadata": {},
   "outputs": [
    {
     "data": {
      "text/html": [
       "<div>\n",
       "<style scoped>\n",
       "    .dataframe tbody tr th:only-of-type {\n",
       "        vertical-align: middle;\n",
       "    }\n",
       "\n",
       "    .dataframe tbody tr th {\n",
       "        vertical-align: top;\n",
       "    }\n",
       "\n",
       "    .dataframe thead th {\n",
       "        text-align: right;\n",
       "    }\n",
       "</style>\n",
       "<table border=\"1\" class=\"dataframe\">\n",
       "  <thead>\n",
       "    <tr style=\"text-align: right;\">\n",
       "      <th></th>\n",
       "      <th>f0</th>\n",
       "      <th>f1</th>\n",
       "      <th>f2</th>\n",
       "    </tr>\n",
       "    <tr>\n",
       "      <th>id</th>\n",
       "      <th></th>\n",
       "      <th></th>\n",
       "      <th></th>\n",
       "    </tr>\n",
       "  </thead>\n",
       "  <tbody>\n",
       "    <tr>\n",
       "      <th>9XrGt</th>\n",
       "      <td>1.986867</td>\n",
       "      <td>-0.143932</td>\n",
       "      <td>3.943780</td>\n",
       "    </tr>\n",
       "    <tr>\n",
       "      <th>gFc0c</th>\n",
       "      <td>0.585844</td>\n",
       "      <td>0.686523</td>\n",
       "      <td>-0.599712</td>\n",
       "    </tr>\n",
       "    <tr>\n",
       "      <th>TwLv2</th>\n",
       "      <td>1.432727</td>\n",
       "      <td>-0.298195</td>\n",
       "      <td>-1.712253</td>\n",
       "    </tr>\n",
       "    <tr>\n",
       "      <th>wMbRo</th>\n",
       "      <td>1.849801</td>\n",
       "      <td>0.164644</td>\n",
       "      <td>-3.638276</td>\n",
       "    </tr>\n",
       "    <tr>\n",
       "      <th>cbWaH</th>\n",
       "      <td>1.692548</td>\n",
       "      <td>0.031280</td>\n",
       "      <td>1.413613</td>\n",
       "    </tr>\n",
       "  </tbody>\n",
       "</table>\n",
       "</div>"
      ],
      "text/plain": [
       "             f0        f1        f2\n",
       "id                                 \n",
       "9XrGt  1.986867 -0.143932  3.943780\n",
       "gFc0c  0.585844  0.686523 -0.599712\n",
       "TwLv2  1.432727 -0.298195 -1.712253\n",
       "wMbRo  1.849801  0.164644 -3.638276\n",
       "cbWaH  1.692548  0.031280  1.413613"
      ]
     },
     "metadata": {},
     "output_type": "display_data"
    },
    {
     "data": {
      "text/plain": [
       "id\n",
       "qoTP6    119.813252\n",
       "fNYo7    133.296862\n",
       "KpTZ4     25.310435\n",
       "vGX0w     65.422491\n",
       "6N2oA    140.851476\n",
       "Name: product, dtype: float64"
      ]
     },
     "metadata": {},
     "output_type": "display_data"
    }
   ],
   "source": [
    "# Задаём константы:\n",
    "RANDOM_STATE = 42\n",
    "TEST_SIZE = 0.25\n",
    "\n",
    "# Создаём тренировочную и валидационную выборки:\n",
    "X_train_0, X_valid_0, y_train_0, y_valid_0 = train_test_split(\n",
    "    set_0.drop('product', axis=1),\n",
    "    set_0['product'],\n",
    "    test_size = TEST_SIZE, \n",
    "    random_state = RANDOM_STATE)\n",
    "\n",
    "X_train_1, X_valid_1, y_train_1, y_valid_1 = train_test_split(\n",
    "    set_1.drop('product', axis=1),\n",
    "    set_1['product'],\n",
    "    test_size = TEST_SIZE, \n",
    "    random_state = RANDOM_STATE,\n",
    "    stratify = set_1['product'])\n",
    "\n",
    "X_train_2, X_valid_2, y_train_2, y_valid_2 = train_test_split(\n",
    "    set_2.drop('product', axis=1),\n",
    "    set_2['product'],\n",
    "    test_size = TEST_SIZE, \n",
    "    random_state = RANDOM_STATE)\n",
    "\n",
    "display(X_train_0.head())\n",
    "display(y_valid_0.head())"
   ]
  },
  {
   "cell_type": "code",
   "execution_count": 45,
   "metadata": {},
   "outputs": [],
   "source": [
    "# Список с названиями столбцов:\n",
    "num_columns = ['f0', 'f1', 'f2']"
   ]
  },
  {
   "cell_type": "code",
   "execution_count": 46,
   "metadata": {},
   "outputs": [],
   "source": [
    "# Собираем кусок пайплайна для обработки данных:\n",
    "df_preprocessor = ColumnTransformer(\n",
    "    [('num', StandardScaler(), num_columns)], remainder='passthrough')\n",
    "\n",
    "# Итоговый пайплайн:\n",
    "pipe_final = Pipeline([\n",
    "    ('preprocessor', df_preprocessor),\n",
    "    ('models', LinearRegression())\n",
    "])"
   ]
  },
  {
   "cell_type": "code",
   "execution_count": 47,
   "metadata": {},
   "outputs": [],
   "source": [
    "# Перебора моделей:\n",
    "param_grid_reg = [\n",
    "    # Словарь для LinearRegression():\n",
    "    {\n",
    "        'models': [LinearRegression()],\n",
    "        'preprocessor__num': [StandardScaler(), MinMaxScaler(), 'passthrough']  \n",
    "    },\n",
    "]"
   ]
  },
  {
   "cell_type": "code",
   "execution_count": 48,
   "metadata": {},
   "outputs": [],
   "source": [
    "# Задаём метрику для оценки качества модели:\n",
    "rmse = make_scorer(mse, greater_is_better=False)"
   ]
  },
  {
   "cell_type": "code",
   "execution_count": 49,
   "metadata": {},
   "outputs": [
    {
     "name": "stdout",
     "output_type": "stream",
     "text": [
      "Метрика RMSE для лучшей модели:\n",
      " -1421.1693550594218\n",
      "\n",
      "Лучшая модель и её параметры:\n",
      "\n",
      " Pipeline(steps=[('preprocessor',\n",
      "                 ColumnTransformer(remainder='passthrough',\n",
      "                                   transformers=[('num', StandardScaler(),\n",
      "                                                  ['f0', 'f1', 'f2'])])),\n",
      "                ('models', LinearRegression())])\n"
     ]
    }
   ],
   "source": [
    "# Обучение первой модели:\n",
    "grid_search_0 = GridSearchCV(pipe_final, param_grid_reg, cv=2, scoring=rmse, n_jobs=-1)\n",
    "grid_search_0.fit(X_train_0, y_train_0)\n",
    "\n",
    "print('Метрика RMSE для лучшей модели:\\n', grid_search_0.best_score_)\n",
    "print('\\nЛучшая модель и её параметры:\\n\\n', grid_search_0.best_estimator_) "
   ]
  },
  {
   "cell_type": "code",
   "execution_count": 50,
   "metadata": {},
   "outputs": [
    {
     "name": "stdout",
     "output_type": "stream",
     "text": [
      "Метрика RMSE на валидационной выборке: 37.68508926201444\n"
     ]
    }
   ],
   "source": [
    "# Предсказание по валидационной выборке:\n",
    "y_pred_0 = grid_search_0.predict(X_valid_0)\n",
    "print(f'Метрика RMSE на валидационной выборке: {sqrt(mse(y_valid_0, y_pred_0))}')"
   ]
  },
  {
   "cell_type": "code",
   "execution_count": 51,
   "metadata": {},
   "outputs": [
    {
     "name": "stdout",
     "output_type": "stream",
     "text": [
      "Метрика RMSE для лучшей модели:\n",
      " -0.7918131746781676\n",
      "\n",
      "Лучшая модель и её параметры:\n",
      "\n",
      " Pipeline(steps=[('preprocessor',\n",
      "                 ColumnTransformer(remainder='passthrough',\n",
      "                                   transformers=[('num', StandardScaler(),\n",
      "                                                  ['f0', 'f1', 'f2'])])),\n",
      "                ('models', LinearRegression())])\n"
     ]
    }
   ],
   "source": [
    "# Обучение второй модели:\n",
    "grid_search_1 = GridSearchCV(pipe_final, param_grid_reg, cv=2, scoring=rmse, n_jobs=-1)\n",
    "grid_search_1.fit(X_train_1, y_train_1)\n",
    "\n",
    "print('Метрика RMSE для лучшей модели:\\n', grid_search_1.best_score_)\n",
    "print('\\nЛучшая модель и её параметры:\\n\\n', grid_search_1.best_estimator_) "
   ]
  },
  {
   "cell_type": "code",
   "execution_count": 52,
   "metadata": {},
   "outputs": [
    {
     "name": "stdout",
     "output_type": "stream",
     "text": [
      "Метрика RMSE на валидационной выборке: 0.8920303322677097\n"
     ]
    }
   ],
   "source": [
    "# Предсказание по валидационной выборке:\n",
    "y_pred_1 = grid_search_1.predict(X_valid_1)\n",
    "print(f'Метрика RMSE на валидационной выборке: {sqrt(mse(y_valid_1, y_pred_1))}')"
   ]
  },
  {
   "cell_type": "code",
   "execution_count": 53,
   "metadata": {},
   "outputs": [
    {
     "name": "stdout",
     "output_type": "stream",
     "text": [
      "Метрика RMSE для лучшей модели:\n",
      " -1603.8690415298468\n",
      "\n",
      "Лучшая модель и её параметры:\n",
      "\n",
      " Pipeline(steps=[('preprocessor',\n",
      "                 ColumnTransformer(remainder='passthrough',\n",
      "                                   transformers=[('num', StandardScaler(),\n",
      "                                                  ['f0', 'f1', 'f2'])])),\n",
      "                ('models', LinearRegression())])\n"
     ]
    }
   ],
   "source": [
    "# Обучение первой модели:\n",
    "grid_search_2 = GridSearchCV(pipe_final, param_grid_reg, cv=2, scoring=rmse, n_jobs=-1)\n",
    "grid_search_2.fit(X_train_2, y_train_2)\n",
    "\n",
    "print('Метрика RMSE для лучшей модели:\\n', grid_search_2.best_score_)\n",
    "print('\\nЛучшая модель и её параметры:\\n\\n', grid_search_2.best_estimator_) "
   ]
  },
  {
   "cell_type": "code",
   "execution_count": 54,
   "metadata": {},
   "outputs": [
    {
     "name": "stdout",
     "output_type": "stream",
     "text": [
      "Метрика RMSE на валидационной выборке: 40.080822438088305\n"
     ]
    }
   ],
   "source": [
    "# Предсказание по валидационной выборке:\n",
    "y_pred_2 = grid_search_2.predict(X_valid_2)\n",
    "print(f'Метрика RMSE на валидационной выборке: {sqrt(mse(y_valid_2, y_pred_2))}')"
   ]
  },
  {
   "cell_type": "markdown",
   "metadata": {},
   "source": [
    "Модели обучены, предсказания по валидационным выборкам сделаны, посчитаны RMSE каждой модели. Теперь сохраним полученные результаты в таблицах."
   ]
  },
  {
   "cell_type": "code",
   "execution_count": 55,
   "metadata": {},
   "outputs": [
    {
     "data": {
      "text/html": [
       "<div>\n",
       "<style scoped>\n",
       "    .dataframe tbody tr th:only-of-type {\n",
       "        vertical-align: middle;\n",
       "    }\n",
       "\n",
       "    .dataframe tbody tr th {\n",
       "        vertical-align: top;\n",
       "    }\n",
       "\n",
       "    .dataframe thead th {\n",
       "        text-align: right;\n",
       "    }\n",
       "</style>\n",
       "<table border=\"1\" class=\"dataframe\">\n",
       "  <thead>\n",
       "    <tr style=\"text-align: right;\">\n",
       "      <th></th>\n",
       "      <th>f0</th>\n",
       "      <th>f1</th>\n",
       "      <th>f2</th>\n",
       "      <th>product</th>\n",
       "      <th>predict</th>\n",
       "    </tr>\n",
       "    <tr>\n",
       "      <th>id</th>\n",
       "      <th></th>\n",
       "      <th></th>\n",
       "      <th></th>\n",
       "      <th></th>\n",
       "      <th></th>\n",
       "    </tr>\n",
       "  </thead>\n",
       "  <tbody>\n",
       "    <tr>\n",
       "      <th>qoTP6</th>\n",
       "      <td>1.760123</td>\n",
       "      <td>0.602091</td>\n",
       "      <td>7.850248</td>\n",
       "      <td>119.813252</td>\n",
       "      <td>127.486528</td>\n",
       "    </tr>\n",
       "    <tr>\n",
       "      <th>fNYo7</th>\n",
       "      <td>0.948101</td>\n",
       "      <td>-0.601353</td>\n",
       "      <td>4.055264</td>\n",
       "      <td>133.296862</td>\n",
       "      <td>116.465831</td>\n",
       "    </tr>\n",
       "    <tr>\n",
       "      <th>KpTZ4</th>\n",
       "      <td>-0.721709</td>\n",
       "      <td>0.577912</td>\n",
       "      <td>-0.134307</td>\n",
       "      <td>25.310435</td>\n",
       "      <td>66.041910</td>\n",
       "    </tr>\n",
       "    <tr>\n",
       "      <th>vGX0w</th>\n",
       "      <td>-0.084550</td>\n",
       "      <td>0.907580</td>\n",
       "      <td>-2.972129</td>\n",
       "      <td>65.422491</td>\n",
       "      <td>45.009390</td>\n",
       "    </tr>\n",
       "    <tr>\n",
       "      <th>6N2oA</th>\n",
       "      <td>0.272074</td>\n",
       "      <td>0.818032</td>\n",
       "      <td>8.694180</td>\n",
       "      <td>140.851476</td>\n",
       "      <td>124.535557</td>\n",
       "    </tr>\n",
       "  </tbody>\n",
       "</table>\n",
       "</div>"
      ],
      "text/plain": [
       "             f0        f1        f2     product     predict\n",
       "id                                                         \n",
       "qoTP6  1.760123  0.602091  7.850248  119.813252  127.486528\n",
       "fNYo7  0.948101 -0.601353  4.055264  133.296862  116.465831\n",
       "KpTZ4 -0.721709  0.577912 -0.134307   25.310435   66.041910\n",
       "vGX0w -0.084550  0.907580 -2.972129   65.422491   45.009390\n",
       "6N2oA  0.272074  0.818032  8.694180  140.851476  124.535557"
      ]
     },
     "metadata": {},
     "output_type": "display_data"
    },
    {
     "data": {
      "text/html": [
       "<div>\n",
       "<style scoped>\n",
       "    .dataframe tbody tr th:only-of-type {\n",
       "        vertical-align: middle;\n",
       "    }\n",
       "\n",
       "    .dataframe tbody tr th {\n",
       "        vertical-align: top;\n",
       "    }\n",
       "\n",
       "    .dataframe thead th {\n",
       "        text-align: right;\n",
       "    }\n",
       "</style>\n",
       "<table border=\"1\" class=\"dataframe\">\n",
       "  <thead>\n",
       "    <tr style=\"text-align: right;\">\n",
       "      <th></th>\n",
       "      <th>f0</th>\n",
       "      <th>f1</th>\n",
       "      <th>f2</th>\n",
       "      <th>product</th>\n",
       "      <th>predict</th>\n",
       "    </tr>\n",
       "    <tr>\n",
       "      <th>id</th>\n",
       "      <th></th>\n",
       "      <th></th>\n",
       "      <th></th>\n",
       "      <th></th>\n",
       "      <th></th>\n",
       "    </tr>\n",
       "  </thead>\n",
       "  <tbody>\n",
       "    <tr>\n",
       "      <th>z3sux</th>\n",
       "      <td>-2.871894</td>\n",
       "      <td>-3.636832</td>\n",
       "      <td>2.002760</td>\n",
       "      <td>57.085625</td>\n",
       "      <td>56.125656</td>\n",
       "    </tr>\n",
       "    <tr>\n",
       "      <th>ms1Ks</th>\n",
       "      <td>-2.715520</td>\n",
       "      <td>-2.228650</td>\n",
       "      <td>1.002684</td>\n",
       "      <td>30.132364</td>\n",
       "      <td>29.118362</td>\n",
       "    </tr>\n",
       "    <tr>\n",
       "      <th>iIQCY</th>\n",
       "      <td>-1.997243</td>\n",
       "      <td>0.169267</td>\n",
       "      <td>5.003981</td>\n",
       "      <td>137.945408</td>\n",
       "      <td>136.803040</td>\n",
       "    </tr>\n",
       "    <tr>\n",
       "      <th>cZ9gC</th>\n",
       "      <td>14.833618</td>\n",
       "      <td>-1.460893</td>\n",
       "      <td>2.007172</td>\n",
       "      <td>53.906522</td>\n",
       "      <td>53.632600</td>\n",
       "    </tr>\n",
       "    <tr>\n",
       "      <th>6Us0V</th>\n",
       "      <td>12.325100</td>\n",
       "      <td>3.331654</td>\n",
       "      <td>-0.004248</td>\n",
       "      <td>0.000000</td>\n",
       "      <td>-0.320606</td>\n",
       "    </tr>\n",
       "  </tbody>\n",
       "</table>\n",
       "</div>"
      ],
      "text/plain": [
       "              f0        f1        f2     product     predict\n",
       "id                                                          \n",
       "z3sux  -2.871894 -3.636832  2.002760   57.085625   56.125656\n",
       "ms1Ks  -2.715520 -2.228650  1.002684   30.132364   29.118362\n",
       "iIQCY  -1.997243  0.169267  5.003981  137.945408  136.803040\n",
       "cZ9gC  14.833618 -1.460893  2.007172   53.906522   53.632600\n",
       "6Us0V  12.325100  3.331654 -0.004248    0.000000   -0.320606"
      ]
     },
     "metadata": {},
     "output_type": "display_data"
    },
    {
     "data": {
      "text/html": [
       "<div>\n",
       "<style scoped>\n",
       "    .dataframe tbody tr th:only-of-type {\n",
       "        vertical-align: middle;\n",
       "    }\n",
       "\n",
       "    .dataframe tbody tr th {\n",
       "        vertical-align: top;\n",
       "    }\n",
       "\n",
       "    .dataframe thead th {\n",
       "        text-align: right;\n",
       "    }\n",
       "</style>\n",
       "<table border=\"1\" class=\"dataframe\">\n",
       "  <thead>\n",
       "    <tr style=\"text-align: right;\">\n",
       "      <th></th>\n",
       "      <th>f0</th>\n",
       "      <th>f1</th>\n",
       "      <th>f2</th>\n",
       "      <th>product</th>\n",
       "      <th>predict</th>\n",
       "    </tr>\n",
       "    <tr>\n",
       "      <th>id</th>\n",
       "      <th></th>\n",
       "      <th></th>\n",
       "      <th></th>\n",
       "      <th></th>\n",
       "      <th></th>\n",
       "    </tr>\n",
       "  </thead>\n",
       "  <tbody>\n",
       "    <tr>\n",
       "      <th>fEtM4</th>\n",
       "      <td>-1.349641</td>\n",
       "      <td>3.092185</td>\n",
       "      <td>5.414776</td>\n",
       "      <td>156.925842</td>\n",
       "      <td>111.540811</td>\n",
       "    </tr>\n",
       "    <tr>\n",
       "      <th>ZUTtd</th>\n",
       "      <td>-2.312980</td>\n",
       "      <td>1.702764</td>\n",
       "      <td>-2.386952</td>\n",
       "      <td>31.245818</td>\n",
       "      <td>66.812289</td>\n",
       "    </tr>\n",
       "    <tr>\n",
       "      <th>VtpnE</th>\n",
       "      <td>3.021226</td>\n",
       "      <td>-0.322292</td>\n",
       "      <td>-1.739777</td>\n",
       "      <td>48.478519</td>\n",
       "      <td>70.406921</td>\n",
       "    </tr>\n",
       "    <tr>\n",
       "      <th>qju6o</th>\n",
       "      <td>0.500312</td>\n",
       "      <td>-1.925757</td>\n",
       "      <td>-3.053501</td>\n",
       "      <td>34.079047</td>\n",
       "      <td>63.118690</td>\n",
       "    </tr>\n",
       "    <tr>\n",
       "      <th>FbzYP</th>\n",
       "      <td>-2.202068</td>\n",
       "      <td>2.999640</td>\n",
       "      <td>10.552605</td>\n",
       "      <td>138.077543</td>\n",
       "      <td>141.162178</td>\n",
       "    </tr>\n",
       "  </tbody>\n",
       "</table>\n",
       "</div>"
      ],
      "text/plain": [
       "             f0        f1         f2     product     predict\n",
       "id                                                          \n",
       "fEtM4 -1.349641  3.092185   5.414776  156.925842  111.540811\n",
       "ZUTtd -2.312980  1.702764  -2.386952   31.245818   66.812289\n",
       "VtpnE  3.021226 -0.322292  -1.739777   48.478519   70.406921\n",
       "qju6o  0.500312 -1.925757  -3.053501   34.079047   63.118690\n",
       "FbzYP -2.202068  2.999640  10.552605  138.077543  141.162178"
      ]
     },
     "metadata": {},
     "output_type": "display_data"
    }
   ],
   "source": [
    "# Объединяем валидационную выборку и предсказания в единые таблицы:\n",
    "set_0_valid = X_valid_0.join(y_valid_0)\n",
    "set_0_valid['predict'] = y_pred_0\n",
    "display(set_0_valid.head())\n",
    "\n",
    "set_1_valid = X_valid_1.join(y_valid_1)\n",
    "set_1_valid['predict'] = y_pred_1\n",
    "display(set_1_valid.head())\n",
    "\n",
    "set_2_valid = X_valid_2.join(y_valid_2)\n",
    "set_2_valid['predict'] = y_pred_2\n",
    "display(set_2_valid.head())"
   ]
  },
  {
   "cell_type": "markdown",
   "metadata": {},
   "source": [
    "Вычислим для каждой таблицы средний запас предсказанного и действительного сырья."
   ]
  },
  {
   "cell_type": "code",
   "execution_count": 56,
   "metadata": {},
   "outputs": [
    {
     "name": "stdout",
     "output_type": "stream",
     "text": [
      "Для первой таблицы:\n",
      "Реальное среднее: 92.38876593595461\n",
      "Предсказанное: 92.60984027552017\n",
      "\n",
      "Для второй таблицы:\n",
      "Реальное среднее: 68.8233132466615\n",
      "Предсказанное: 68.82057844409007\n",
      "\n",
      "Для третьей таблицы:\n",
      "Реальное среднее: 95.25463671658842\n",
      "Предсказанное: 94.93478722287514\n"
     ]
    }
   ],
   "source": [
    "# Расчёт средних величин:\n",
    "mean_0_real = set_0_valid['product'].mean()\n",
    "mean_0_pred = set_0_valid['predict'].mean()\n",
    "\n",
    "mean_1_real = set_1_valid['product'].mean()\n",
    "mean_1_pred = set_1_valid['predict'].mean()\n",
    "\n",
    "mean_2_real = set_2_valid['product'].mean()\n",
    "mean_2_pred = set_2_valid['predict'].mean()\n",
    "\n",
    "print('Для первой таблицы:')\n",
    "print('Реальное среднее:', mean_0_real)\n",
    "print('Предсказанное:', mean_0_pred)\n",
    "print()\n",
    "print('Для второй таблицы:')\n",
    "print('Реальное среднее:', mean_1_real)\n",
    "print('Предсказанное:', mean_1_pred)\n",
    "print()\n",
    "print('Для третьей таблицы:')\n",
    "print('Реальное среднее:', mean_2_real)\n",
    "print('Предсказанное:', mean_2_pred)"
   ]
  },
  {
   "cell_type": "markdown",
   "metadata": {},
   "source": [
    "Получилось достаточно неплохо."
   ]
  },
  {
   "cell_type": "markdown",
   "metadata": {},
   "source": [
    "### Вывод:\n",
    "Провели разделение трёх датасетов на тренировочные и валидационные выборки, создали пайплайн обработки и поиска лучшей модели.\n",
    "\n",
    "Было обучено 3 модели линейной регрессии (StandardScaler()) и сделаны предсказания на валидационных выборках. Результаты занесены в обновлённые таблицы.\n",
    "\n",
    "Посчитаны средние значения реальных и предсказанных запасов, расхождение незначительное. Посчитана метрика RMSE для каждой модели: для первой - 37.68, для второй - 0.89, для третьей - 40.08. Разброс немаленький, однако способов дополнить данные у нас нет, поэтому продолжаем работать так.\n",
    "\n",
    "Изначально наименьшая ошибка в первом регионе. Для лучшего изучения нам потребуется дополнительная информация."
   ]
  },
  {
   "cell_type": "markdown",
   "metadata": {},
   "source": [
    "## Подготовка к расчёту прибыли"
   ]
  },
  {
   "cell_type": "markdown",
   "metadata": {},
   "source": [
    "В данном пункте выполним все необходимые приготовления для дальнейшего расчёта прибыли. Обозначим переменные, рассчитаем безубыточную разработку скважины, сравним результат со средними значениями запасов."
   ]
  },
  {
   "cell_type": "code",
   "execution_count": 57,
   "metadata": {},
   "outputs": [],
   "source": [
    "# Зададим значения в переменные:\n",
    "total = 500  # всего скважин\n",
    "target = 200  # выборка лучших скважин\n",
    "budget = 10000000000  # бюджет на разработку\n",
    "cost = 450000  # цена за единицу продукции\n",
    "max_prob = .025 # максимальная вероятность риска"
   ]
  },
  {
   "cell_type": "code",
   "execution_count": 58,
   "metadata": {},
   "outputs": [
    {
     "name": "stdout",
     "output_type": "stream",
     "text": [
      "Объём безубыточной разработки: 111\n"
     ]
    }
   ],
   "source": [
    "# Объём безубыточной разработки:\n",
    "volume_0 = (budget/cost)/target\n",
    "print('Объём безубыточной разработки:', f\"{volume_0:.0f}\")"
   ]
  },
  {
   "cell_type": "markdown",
   "metadata": {},
   "source": [
    "Как видим, значение получилось значительно больше, чем средние показатели по регионам."
   ]
  },
  {
   "cell_type": "markdown",
   "metadata": {},
   "source": [
    "Теперь напишем функцию для подсчёта прибыли по выбранным скважинам и предсказаниям моделей."
   ]
  },
  {
   "cell_type": "code",
   "execution_count": 59,
   "metadata": {},
   "outputs": [],
   "source": [
    "# Функция расчёта прибыли:\n",
    "def profit_cal(df):\n",
    "    df = df.sort_values(by = 'predict', ascending = False)\n",
    "    wells = df.head(target)\n",
    "    profit = (wells['product'].sum() * cost) - budget\n",
    "    return profit"
   ]
  },
  {
   "cell_type": "markdown",
   "metadata": {},
   "source": [
    "Теперь посчитаем прибыль для каждого региона."
   ]
  },
  {
   "cell_type": "code",
   "execution_count": 60,
   "metadata": {},
   "outputs": [
    {
     "name": "stdout",
     "output_type": "stream",
     "text": [
      "В первом регионе: 3468529787\n",
      "Во втором регионе: 2415086697\n",
      "В третьем регионе: 2396613001\n"
     ]
    }
   ],
   "source": [
    "# Расчёт прибыли по регионам:\n",
    "print('В первом регионе:', f\"{profit_cal(set_0_valid):.0f}\")\n",
    "print('Во втором регионе:', f\"{profit_cal(set_1_valid):.0f}\")\n",
    "print('В третьем регионе:', f\"{profit_cal(set_2_valid):.0f}\")"
   ]
  },
  {
   "cell_type": "markdown",
   "metadata": {},
   "source": [
    "### Вывод:\n",
    "Выполнена подготовка переменных для дальнейших расчётов. Посчитан объём безубыточной разработки, он оказался выше на 20 пунктов, чем в среднем в первом и третьем регионах, и значительно больше, чем во втором регионе.\n",
    "\n",
    "Написана функция расчёта приыбли для каждого региона, получены конкретные значения. Больше всего получается по первому региону (3,5 млрд), во втором и третьем практически одинаково (по 2,4 млрд)."
   ]
  },
  {
   "cell_type": "markdown",
   "metadata": {},
   "source": [
    "## Расчёт прибыли и рисков "
   ]
  },
  {
   "cell_type": "markdown",
   "metadata": {},
   "source": [
    "Теперь необходимо посчитать риски и прибыль для каждого региона. Для этого используем методику Bootstrap и найдём распределение прибыли. Также найдём среднюю прибыль, 95-ый доверительный интервал и риск убытков."
   ]
  },
  {
   "cell_type": "code",
   "execution_count": 61,
   "metadata": {},
   "outputs": [],
   "source": [
    "# Функция расчета доходов и убытков:\n",
    "def profit_and_loss(df):\n",
    "    \n",
    "    state = np.random.RandomState(42)\n",
    "    profit_bootstrep = []\n",
    "    \n",
    "    for i in range(0, 1000, 1):\n",
    "        df_sample = df.sample(n=500, replace=True, random_state=state)\n",
    "        profit_bootstrep.append(profit_cal(df_sample))\n",
    "    \n",
    "    profit_bootstrep = pd.Series(profit_bootstrep)\n",
    "\n",
    "    profit_mean = int(profit_bootstrep.mean()) # Средний доход\n",
    "    \n",
    "    lower_profit = int(profit_bootstrep.quantile(.025)) # Нижний квантиль 2.5% от 95% доверительного интервала\n",
    "    \n",
    "    upper_profit = int(profit_bootstrep.quantile(.975)) # Верхний квантиль 97.5% от 95% доверительного интервала\n",
    "\n",
    "    prob_of_loss = (profit_bootstrep.values < 0).mean() # Вероятность убытка\n",
    "    \n",
    "    print(f'95% доверительный интервал доходности находится в пределах от {lower_profit} до {upper_profit}')\n",
    "    print('Средний доход:', profit_mean)\n",
    "    print(f'Вероятность убытка: {prob_of_loss*100.:0.2}%')\n",
    "    \n",
    "    return profit_mean, prob_of_loss"
   ]
  },
  {
   "cell_type": "code",
   "execution_count": 62,
   "metadata": {},
   "outputs": [],
   "source": [
    "# Подготовим списки для работы функции:\n",
    "profits_mean = []\n",
    "prob_of_losses = []"
   ]
  },
  {
   "cell_type": "code",
   "execution_count": 63,
   "metadata": {},
   "outputs": [
    {
     "name": "stdout",
     "output_type": "stream",
     "text": [
      "95% доверительный интервал доходности находится в пределах от -137690003 до 902848310\n",
      "Средний доход: 403572063\n",
      "Вероятность убытка: 5.9%\n"
     ]
    }
   ],
   "source": [
    "# Для первого региона:\n",
    "profit_mean, prob_of_loss = profit_and_loss(set_0_valid)\n",
    "profits_mean.append(profit_mean)\n",
    "prob_of_losses.append(prob_of_loss)"
   ]
  },
  {
   "cell_type": "code",
   "execution_count": 64,
   "metadata": {},
   "outputs": [
    {
     "name": "stdout",
     "output_type": "stream",
     "text": [
      "95% доверительный интервал доходности находится в пределах от 50354780 до 852289453\n",
      "Средний доход: 445532027\n",
      "Вероятность убытка: 1.6%\n"
     ]
    }
   ],
   "source": [
    "# Для второго региона:\n",
    "profit_mean, prob_of_loss = profit_and_loss(set_1_valid)\n",
    "profits_mean.append(profit_mean)\n",
    "prob_of_losses.append(prob_of_loss)"
   ]
  },
  {
   "cell_type": "code",
   "execution_count": 65,
   "metadata": {},
   "outputs": [
    {
     "name": "stdout",
     "output_type": "stream",
     "text": [
      "95% доверительный интервал доходности находится в пределах от -127589876 до 910134439\n",
      "Средний доход: 384214428\n",
      "Вероятность убытка: 8.0%\n"
     ]
    }
   ],
   "source": [
    "# Для третьего региона:\n",
    "profit_mean, prob_of_loss = profit_and_loss(set_2_valid)\n",
    "profits_mean.append(profit_mean)\n",
    "prob_of_losses.append(prob_of_loss)"
   ]
  },
  {
   "cell_type": "markdown",
   "metadata": {},
   "source": [
    "### Вывод:\n",
    "С помощью метода Bootstrap составили функцию для нахождения 95% доверительного интервала, среднего дохода и вероятности понести убытки. Для каждого региона рассчитали эти показатели.\n",
    "\n",
    "Наибольшая вероятность убытка оказалась в третьем регионе (8%), наименьшая - во втором (1,6%). В первом регионе показатель вышел за допустимые рамки (5 > 2.5), поэтому он вместе с третьим не подходят для компании.\n",
    "\n",
    "Также нам повезло со средним доходом: во втором регионе по итогам рассчётов он оказался наибольшим и составил 445 млн. рублей."
   ]
  },
  {
   "cell_type": "markdown",
   "metadata": {},
   "source": [
    "## Итоговый вывод:\n",
    "Данный проект представлял собой бизнес-задачу и заключался в анализе трёх регионах, расчёте прибыли и убытков, выборе наиболее оптимального региона для бурения.\n",
    "\n",
    "Общий план работы заключался в следующем:\n",
    "   - обзор полученных данных;\n",
    "   - предобработка данных;\n",
    "   - проведение анализа по конкретным столбцам;\n",
    "   - обучение моделей линейной регрессии;\n",
    "   - объяснение закономерностей предсказания модели;\n",
    "   - рассчитать прибыль и убытки для перспективных районов;\n",
    "   - написание общего вывода.\n",
    "  \n",
    "В результате произведена следующаяя работа:\n",
    "\n",
    "  1) В ходе первичного анализа потсупивших данных обработали неявные дубликаты в них, а также исследовали распределение известных величин. \n",
    "  \n",
    "  2) Провели разделение трёх датасетов на тренировочные и валидационные выборки, создали пайплайн обработки и поиска лучшей модели.\n",
    "\n",
    "  3) Было обучено 3 модели линейной регрессии (StandardScaler()) и сделаны предсказания на валидационных выборках. Результаты занесены в обновлённые таблицы.\n",
    "\n",
    "  4) Посчитаны средние значения реальных и предсказанных запасов, расхождение незначительное. Посчитана метрика RMSE для каждой модели: для первой - 37.68, для второй - 0.89, для третьей - 40.08. Разброс немаленький, однако способов дополнить данные у нас нет, поэтому продолжаем работать так.\n",
    "  \n",
    "  5) Выполнена подготовка переменных для дальнейших расчётов. Посчитан объём безубыточной разработки, он оказался выше на 20 пунктов, чем в среднем в первом и третьем регионах, и значительно больше, чем во втором регионе.\n",
    "\n",
    "  6) Написана функция расчёта приыбли для каждого региона, получены конкретные значения. Больше всего получается по первому региону (3,5 млрд), во втором и третьем практически одинаково (по 2,4 млрд).\n",
    "  \n",
    "  7) Выбран лучший регион разработки месторождений.\n",
    "  \n",
    "С помощью метода Bootstrap составили функцию для нахождения 95% доверительного интервала, среднего дохода и вероятности понести убытки. Для каждого региона рассчитали эти показатели.\n",
    "\n",
    "Наибольшая вероятность убытка оказалась в третьем регионе (8%), наименьшая - во втором (1,6%). В первом регионе показатель вышел за допустимые рамки (5 > 2.5), поэтому он вместе с третьим не подходят для компании.\n",
    "\n",
    "Также нам повезло со средним доходом: во втором регионе по итогам рассчётов он оказался наибольшим и составил 445 млн. рублей."
   ]
  }
 ],
 "metadata": {
  "ExecuteTimeLog": [
   {
    "duration": 1405,
    "start_time": "2024-04-03T17:01:32.768Z"
   },
   {
    "duration": 18,
    "start_time": "2024-04-03T17:02:07.268Z"
   },
   {
    "duration": 11,
    "start_time": "2024-04-03T17:02:17.193Z"
   },
   {
    "duration": 313,
    "start_time": "2024-04-03T17:02:26.337Z"
   },
   {
    "duration": 4,
    "start_time": "2024-04-03T17:02:59.203Z"
   },
   {
    "duration": 4,
    "start_time": "2024-04-03T17:03:12.357Z"
   },
   {
    "duration": 695,
    "start_time": "2024-04-03T17:06:01.731Z"
   },
   {
    "duration": 14,
    "start_time": "2024-04-03T21:27:18.046Z"
   },
   {
    "duration": 46,
    "start_time": "2024-04-03T21:27:26.008Z"
   },
   {
    "duration": 125,
    "start_time": "2024-04-03T21:28:10.333Z"
   },
   {
    "duration": 40,
    "start_time": "2024-04-03T21:28:48.260Z"
   },
   {
    "duration": 35,
    "start_time": "2024-04-03T21:58:56.870Z"
   },
   {
    "duration": 228,
    "start_time": "2024-04-03T21:59:26.124Z"
   },
   {
    "duration": 35,
    "start_time": "2024-04-03T21:59:33.207Z"
   },
   {
    "duration": 76,
    "start_time": "2024-04-03T22:00:16.070Z"
   },
   {
    "duration": 20,
    "start_time": "2024-04-03T22:01:02.550Z"
   },
   {
    "duration": 286,
    "start_time": "2024-04-03T22:04:14.352Z"
   },
   {
    "duration": 324,
    "start_time": "2024-04-03T22:04:24.462Z"
   },
   {
    "duration": 293,
    "start_time": "2024-04-03T22:06:08.435Z"
   },
   {
    "duration": 61,
    "start_time": "2024-04-03T22:06:51.017Z"
   },
   {
    "duration": 686,
    "start_time": "2024-04-03T22:09:00.959Z"
   },
   {
    "duration": 1315,
    "start_time": "2024-04-03T22:09:34.230Z"
   },
   {
    "duration": 462,
    "start_time": "2024-04-03T22:09:43.832Z"
   },
   {
    "duration": 119,
    "start_time": "2024-04-03T22:09:45.511Z"
   },
   {
    "duration": 39,
    "start_time": "2024-04-03T22:09:45.977Z"
   },
   {
    "duration": 64,
    "start_time": "2024-04-03T22:09:47.033Z"
   },
   {
    "duration": 783,
    "start_time": "2024-04-03T22:09:48.257Z"
   },
   {
    "duration": 226,
    "start_time": "2024-04-03T22:10:28.425Z"
   },
   {
    "duration": 1369,
    "start_time": "2024-04-03T22:10:37.296Z"
   },
   {
    "duration": 474,
    "start_time": "2024-04-03T22:10:39.353Z"
   },
   {
    "duration": 123,
    "start_time": "2024-04-03T22:10:39.964Z"
   },
   {
    "duration": 40,
    "start_time": "2024-04-03T22:10:40.232Z"
   },
   {
    "duration": 58,
    "start_time": "2024-04-03T22:10:40.609Z"
   },
   {
    "duration": 86,
    "start_time": "2024-04-03T22:10:41.384Z"
   },
   {
    "duration": 2330,
    "start_time": "2024-04-04T20:09:53.804Z"
   },
   {
    "duration": 1990,
    "start_time": "2024-04-04T20:09:56.186Z"
   },
   {
    "duration": 201,
    "start_time": "2024-04-04T20:10:00.070Z"
   },
   {
    "duration": 74,
    "start_time": "2024-04-04T20:10:00.273Z"
   },
   {
    "duration": 157,
    "start_time": "2024-04-04T20:10:01.944Z"
   },
   {
    "duration": 185,
    "start_time": "2024-04-04T20:10:03.868Z"
   },
   {
    "duration": 1677,
    "start_time": "2024-04-04T20:16:20.368Z"
   },
   {
    "duration": 569,
    "start_time": "2024-04-04T20:16:23.972Z"
   },
   {
    "duration": 180,
    "start_time": "2024-04-04T20:16:25.449Z"
   },
   {
    "duration": 67,
    "start_time": "2024-04-04T20:16:25.660Z"
   },
   {
    "duration": 106,
    "start_time": "2024-04-04T20:16:26.039Z"
   },
   {
    "duration": 157,
    "start_time": "2024-04-04T20:16:26.867Z"
   },
   {
    "duration": 312,
    "start_time": "2024-04-04T20:17:08.503Z"
   },
   {
    "duration": 370,
    "start_time": "2024-04-04T20:17:57.820Z"
   },
   {
    "duration": 309,
    "start_time": "2024-04-04T20:18:28.622Z"
   },
   {
    "duration": 378,
    "start_time": "2024-04-04T20:20:12.090Z"
   },
   {
    "duration": 300,
    "start_time": "2024-04-04T20:20:43.384Z"
   },
   {
    "duration": 299,
    "start_time": "2024-04-04T20:29:13.055Z"
   },
   {
    "duration": 265,
    "start_time": "2024-04-04T20:29:36.151Z"
   },
   {
    "duration": 290,
    "start_time": "2024-04-04T20:29:50.216Z"
   },
   {
    "duration": 298,
    "start_time": "2024-04-04T20:31:57.538Z"
   },
   {
    "duration": 285,
    "start_time": "2024-04-04T20:32:20.991Z"
   },
   {
    "duration": 270,
    "start_time": "2024-04-04T20:32:34.250Z"
   },
   {
    "duration": 289,
    "start_time": "2024-04-04T20:37:15.101Z"
   },
   {
    "duration": 278,
    "start_time": "2024-04-04T20:38:29.403Z"
   },
   {
    "duration": 302,
    "start_time": "2024-04-04T20:39:29.727Z"
   },
   {
    "duration": 1551,
    "start_time": "2024-04-07T14:30:20.813Z"
   },
   {
    "duration": 737,
    "start_time": "2024-04-07T14:30:22.368Z"
   },
   {
    "duration": 138,
    "start_time": "2024-04-07T14:30:23.107Z"
   },
   {
    "duration": 46,
    "start_time": "2024-04-07T14:30:23.247Z"
   },
   {
    "duration": 84,
    "start_time": "2024-04-07T14:30:23.295Z"
   },
   {
    "duration": 108,
    "start_time": "2024-04-07T14:30:23.539Z"
   },
   {
    "duration": 266,
    "start_time": "2024-04-07T14:30:24.201Z"
   },
   {
    "duration": 259,
    "start_time": "2024-04-07T14:30:24.470Z"
   },
   {
    "duration": 266,
    "start_time": "2024-04-07T14:30:24.731Z"
   },
   {
    "duration": 270,
    "start_time": "2024-04-07T14:30:24.999Z"
   },
   {
    "duration": 346,
    "start_time": "2024-04-07T14:30:25.772Z"
   },
   {
    "duration": 257,
    "start_time": "2024-04-07T14:30:26.121Z"
   },
   {
    "duration": 258,
    "start_time": "2024-04-07T14:30:26.380Z"
   },
   {
    "duration": 316,
    "start_time": "2024-04-07T14:30:26.640Z"
   },
   {
    "duration": 275,
    "start_time": "2024-04-07T14:30:26.999Z"
   },
   {
    "duration": 265,
    "start_time": "2024-04-07T14:30:27.275Z"
   },
   {
    "duration": 256,
    "start_time": "2024-04-07T14:30:27.542Z"
   },
   {
    "duration": 268,
    "start_time": "2024-04-07T14:30:27.800Z"
   },
   {
    "duration": 12,
    "start_time": "2024-04-07T14:32:08.048Z"
   },
   {
    "duration": 24,
    "start_time": "2024-04-07T14:33:54.837Z"
   },
   {
    "duration": 157,
    "start_time": "2024-04-07T14:40:35.693Z"
   },
   {
    "duration": 132,
    "start_time": "2024-04-07T14:41:53.072Z"
   },
   {
    "duration": 137,
    "start_time": "2024-04-07T14:42:14.635Z"
   },
   {
    "duration": 134,
    "start_time": "2024-04-07T14:42:48.683Z"
   },
   {
    "duration": 119,
    "start_time": "2024-04-07T14:42:58.363Z"
   },
   {
    "duration": 3,
    "start_time": "2024-04-07T14:44:39.585Z"
   },
   {
    "duration": 4,
    "start_time": "2024-04-07T15:41:31.956Z"
   },
   {
    "duration": 5,
    "start_time": "2024-04-07T15:46:09.359Z"
   },
   {
    "duration": 4,
    "start_time": "2024-04-07T15:46:19.298Z"
   },
   {
    "duration": 3,
    "start_time": "2024-04-07T15:46:57.203Z"
   },
   {
    "duration": 14,
    "start_time": "2024-04-07T15:47:38.537Z"
   },
   {
    "duration": 7,
    "start_time": "2024-04-07T15:47:56.813Z"
   },
   {
    "duration": 14,
    "start_time": "2024-04-07T15:48:05.924Z"
   },
   {
    "duration": 3,
    "start_time": "2024-04-07T15:49:14.296Z"
   },
   {
    "duration": 11,
    "start_time": "2024-04-07T15:49:20.667Z"
   },
   {
    "duration": 1198,
    "start_time": "2024-04-07T15:49:42.876Z"
   },
   {
    "duration": 15,
    "start_time": "2024-04-07T15:51:05.004Z"
   },
   {
    "duration": 13,
    "start_time": "2024-04-07T15:54:31.950Z"
   },
   {
    "duration": 1222,
    "start_time": "2024-04-07T15:54:40.748Z"
   },
   {
    "duration": 1070,
    "start_time": "2024-04-07T15:54:54.603Z"
   },
   {
    "duration": 1195,
    "start_time": "2024-04-07T15:55:57.883Z"
   },
   {
    "duration": 110,
    "start_time": "2024-04-07T15:58:15.257Z"
   },
   {
    "duration": 17,
    "start_time": "2024-04-07T15:59:41.441Z"
   },
   {
    "duration": 1159,
    "start_time": "2024-04-07T16:01:15.210Z"
   },
   {
    "duration": 15,
    "start_time": "2024-04-07T16:01:37.739Z"
   },
   {
    "duration": 1186,
    "start_time": "2024-04-07T16:02:03.383Z"
   },
   {
    "duration": 1227,
    "start_time": "2024-04-07T16:02:40.040Z"
   },
   {
    "duration": 15,
    "start_time": "2024-04-07T16:02:59.897Z"
   },
   {
    "duration": 11,
    "start_time": "2024-04-07T16:11:19.247Z"
   },
   {
    "duration": 5,
    "start_time": "2024-04-07T16:11:29.755Z"
   },
   {
    "duration": 15,
    "start_time": "2024-04-07T16:12:34.649Z"
   },
   {
    "duration": 20,
    "start_time": "2024-04-07T16:12:50.422Z"
   },
   {
    "duration": 16,
    "start_time": "2024-04-07T16:12:58.163Z"
   },
   {
    "duration": 13,
    "start_time": "2024-04-07T16:13:05.486Z"
   },
   {
    "duration": 15,
    "start_time": "2024-04-07T16:15:53.826Z"
   },
   {
    "duration": 50,
    "start_time": "2024-04-07T16:17:17.990Z"
   },
   {
    "duration": 11,
    "start_time": "2024-04-07T16:24:24.600Z"
   },
   {
    "duration": 10,
    "start_time": "2024-04-07T16:24:40.631Z"
   },
   {
    "duration": 16,
    "start_time": "2024-04-07T17:17:48.550Z"
   },
   {
    "duration": 12,
    "start_time": "2024-04-07T17:17:54.399Z"
   },
   {
    "duration": 13,
    "start_time": "2024-04-07T17:17:57.625Z"
   },
   {
    "duration": 2,
    "start_time": "2024-04-07T17:21:59.108Z"
   },
   {
    "duration": 3,
    "start_time": "2024-04-07T17:32:54.254Z"
   },
   {
    "duration": 3,
    "start_time": "2024-04-07T17:33:00.267Z"
   },
   {
    "duration": 4,
    "start_time": "2024-04-07T17:36:23.498Z"
   },
   {
    "duration": 43,
    "start_time": "2024-04-07T17:41:45.952Z"
   },
   {
    "duration": 3,
    "start_time": "2024-04-07T17:41:50.473Z"
   },
   {
    "duration": 4,
    "start_time": "2024-04-07T17:42:13.241Z"
   },
   {
    "duration": 4,
    "start_time": "2024-04-07T17:42:21.197Z"
   },
   {
    "duration": 4,
    "start_time": "2024-04-07T17:42:28.938Z"
   },
   {
    "duration": 43,
    "start_time": "2024-04-07T17:42:34.642Z"
   },
   {
    "duration": 44,
    "start_time": "2024-04-07T17:42:59.544Z"
   },
   {
    "duration": 4,
    "start_time": "2024-04-07T17:43:15.884Z"
   },
   {
    "duration": 4,
    "start_time": "2024-04-07T17:43:21.120Z"
   },
   {
    "duration": 4,
    "start_time": "2024-04-07T18:03:56.810Z"
   },
   {
    "duration": 957,
    "start_time": "2024-04-07T18:05:28.298Z"
   },
   {
    "duration": 4,
    "start_time": "2024-04-07T18:05:48.555Z"
   },
   {
    "duration": 8,
    "start_time": "2024-04-07T18:05:49.424Z"
   },
   {
    "duration": 10,
    "start_time": "2024-04-07T18:06:26.149Z"
   },
   {
    "duration": 24,
    "start_time": "2024-04-07T18:06:50.370Z"
   },
   {
    "duration": 6,
    "start_time": "2024-04-07T18:46:49.563Z"
   },
   {
    "duration": 5,
    "start_time": "2024-04-07T18:48:08.334Z"
   },
   {
    "duration": 4,
    "start_time": "2024-04-07T18:48:56.308Z"
   },
   {
    "duration": 18,
    "start_time": "2024-04-07T18:50:27.420Z"
   },
   {
    "duration": 3,
    "start_time": "2024-04-07T18:52:12.329Z"
   },
   {
    "duration": 10,
    "start_time": "2024-04-07T18:52:13.234Z"
   },
   {
    "duration": 25,
    "start_time": "2024-04-07T18:52:31.050Z"
   },
   {
    "duration": 23,
    "start_time": "2024-04-07T18:52:35.017Z"
   },
   {
    "duration": 6,
    "start_time": "2024-04-07T18:52:41.702Z"
   },
   {
    "duration": 2,
    "start_time": "2024-04-07T18:52:42.340Z"
   },
   {
    "duration": 830,
    "start_time": "2024-04-07T18:52:42.977Z"
   },
   {
    "duration": 874,
    "start_time": "2024-04-07T18:52:55.421Z"
   },
   {
    "duration": 808,
    "start_time": "2024-04-07T18:54:36.972Z"
   },
   {
    "duration": 2,
    "start_time": "2024-04-07T18:55:34.607Z"
   },
   {
    "duration": 929,
    "start_time": "2024-04-07T18:55:35.092Z"
   },
   {
    "duration": 2,
    "start_time": "2024-04-07T18:55:44.526Z"
   },
   {
    "duration": 804,
    "start_time": "2024-04-07T18:55:44.940Z"
   },
   {
    "duration": 779,
    "start_time": "2024-04-07T18:56:14.963Z"
   },
   {
    "duration": 864,
    "start_time": "2024-04-07T18:56:15.744Z"
   },
   {
    "duration": 2,
    "start_time": "2024-04-07T18:57:57.201Z"
   },
   {
    "duration": 1400,
    "start_time": "2024-04-07T18:58:09.332Z"
   },
   {
    "duration": 464,
    "start_time": "2024-04-07T18:58:10.758Z"
   },
   {
    "duration": 139,
    "start_time": "2024-04-07T18:58:11.364Z"
   },
   {
    "duration": 45,
    "start_time": "2024-04-07T18:58:11.559Z"
   },
   {
    "duration": 64,
    "start_time": "2024-04-07T18:58:11.947Z"
   },
   {
    "duration": 107,
    "start_time": "2024-04-07T18:58:12.308Z"
   },
   {
    "duration": 291,
    "start_time": "2024-04-07T18:58:12.862Z"
   },
   {
    "duration": 287,
    "start_time": "2024-04-07T18:58:13.155Z"
   },
   {
    "duration": 266,
    "start_time": "2024-04-07T18:58:13.444Z"
   },
   {
    "duration": 279,
    "start_time": "2024-04-07T18:58:13.712Z"
   },
   {
    "duration": 346,
    "start_time": "2024-04-07T18:58:14.024Z"
   },
   {
    "duration": 282,
    "start_time": "2024-04-07T18:58:14.372Z"
   },
   {
    "duration": 292,
    "start_time": "2024-04-07T18:58:14.656Z"
   },
   {
    "duration": 283,
    "start_time": "2024-04-07T18:58:14.949Z"
   },
   {
    "duration": 277,
    "start_time": "2024-04-07T18:58:15.234Z"
   },
   {
    "duration": 294,
    "start_time": "2024-04-07T18:58:15.513Z"
   },
   {
    "duration": 300,
    "start_time": "2024-04-07T18:58:15.808Z"
   },
   {
    "duration": 285,
    "start_time": "2024-04-07T18:58:16.110Z"
   },
   {
    "duration": 13,
    "start_time": "2024-04-07T18:58:16.689Z"
   },
   {
    "duration": 24,
    "start_time": "2024-04-07T18:58:16.907Z"
   },
   {
    "duration": 143,
    "start_time": "2024-04-07T18:58:17.098Z"
   },
   {
    "duration": 2,
    "start_time": "2024-04-07T18:58:17.311Z"
   },
   {
    "duration": 3,
    "start_time": "2024-04-07T18:58:17.509Z"
   },
   {
    "duration": 3,
    "start_time": "2024-04-07T18:58:17.688Z"
   },
   {
    "duration": 3,
    "start_time": "2024-04-07T18:58:17.880Z"
   },
   {
    "duration": 1182,
    "start_time": "2024-04-07T18:58:18.091Z"
   },
   {
    "duration": 15,
    "start_time": "2024-04-07T18:58:19.275Z"
   },
   {
    "duration": 1378,
    "start_time": "2024-04-07T18:58:19.291Z"
   },
   {
    "duration": 95,
    "start_time": "2024-04-07T18:58:20.671Z"
   },
   {
    "duration": 1300,
    "start_time": "2024-04-07T18:58:20.769Z"
   },
   {
    "duration": 15,
    "start_time": "2024-04-07T18:58:22.071Z"
   },
   {
    "duration": 143,
    "start_time": "2024-04-07T18:58:22.165Z"
   },
   {
    "duration": 9,
    "start_time": "2024-04-07T18:58:22.309Z"
   },
   {
    "duration": 14,
    "start_time": "2024-04-07T18:58:22.320Z"
   },
   {
    "duration": 6,
    "start_time": "2024-04-07T18:58:22.336Z"
   },
   {
    "duration": 9,
    "start_time": "2024-04-07T18:58:22.343Z"
   },
   {
    "duration": 24,
    "start_time": "2024-04-07T18:58:22.994Z"
   },
   {
    "duration": 5,
    "start_time": "2024-04-07T18:58:25.107Z"
   },
   {
    "duration": 6,
    "start_time": "2024-04-07T22:16:16.521Z"
   },
   {
    "duration": 2,
    "start_time": "2024-04-07T22:16:31.155Z"
   },
   {
    "duration": 119,
    "start_time": "2024-04-07T22:17:12.495Z"
   },
   {
    "duration": 3,
    "start_time": "2024-04-07T22:18:28.404Z"
   },
   {
    "duration": 21,
    "start_time": "2024-04-07T22:18:36.830Z"
   },
   {
    "duration": 9,
    "start_time": "2024-04-07T22:20:34.704Z"
   },
   {
    "duration": 12,
    "start_time": "2024-04-07T22:21:16.048Z"
   },
   {
    "duration": 1357,
    "start_time": "2024-04-07T22:22:48.569Z"
   },
   {
    "duration": 461,
    "start_time": "2024-04-07T22:22:50.075Z"
   },
   {
    "duration": 113,
    "start_time": "2024-04-07T22:22:51.518Z"
   },
   {
    "duration": 40,
    "start_time": "2024-04-07T22:22:51.707Z"
   },
   {
    "duration": 59,
    "start_time": "2024-04-07T22:22:52.059Z"
   },
   {
    "duration": 100,
    "start_time": "2024-04-07T22:22:52.420Z"
   },
   {
    "duration": 269,
    "start_time": "2024-04-07T22:22:52.988Z"
   },
   {
    "duration": 253,
    "start_time": "2024-04-07T22:22:53.266Z"
   },
   {
    "duration": 262,
    "start_time": "2024-04-07T22:22:53.521Z"
   },
   {
    "duration": 265,
    "start_time": "2024-04-07T22:22:53.785Z"
   },
   {
    "duration": 349,
    "start_time": "2024-04-07T22:22:54.091Z"
   },
   {
    "duration": 255,
    "start_time": "2024-04-07T22:22:54.442Z"
   },
   {
    "duration": 258,
    "start_time": "2024-04-07T22:22:54.699Z"
   },
   {
    "duration": 261,
    "start_time": "2024-04-07T22:22:54.965Z"
   },
   {
    "duration": 262,
    "start_time": "2024-04-07T22:22:55.228Z"
   },
   {
    "duration": 267,
    "start_time": "2024-04-07T22:22:55.492Z"
   },
   {
    "duration": 304,
    "start_time": "2024-04-07T22:22:55.761Z"
   },
   {
    "duration": 261,
    "start_time": "2024-04-07T22:22:56.067Z"
   },
   {
    "duration": 14,
    "start_time": "2024-04-07T22:22:56.737Z"
   },
   {
    "duration": 23,
    "start_time": "2024-04-07T22:22:56.913Z"
   },
   {
    "duration": 134,
    "start_time": "2024-04-07T22:22:57.115Z"
   },
   {
    "duration": 3,
    "start_time": "2024-04-07T22:22:57.275Z"
   },
   {
    "duration": 4,
    "start_time": "2024-04-07T22:22:57.639Z"
   },
   {
    "duration": 3,
    "start_time": "2024-04-07T22:22:57.898Z"
   },
   {
    "duration": 2,
    "start_time": "2024-04-07T22:22:58.159Z"
   },
   {
    "duration": 1224,
    "start_time": "2024-04-07T22:22:58.448Z"
   },
   {
    "duration": 14,
    "start_time": "2024-04-07T22:22:59.673Z"
   },
   {
    "duration": 1380,
    "start_time": "2024-04-07T22:22:59.689Z"
   },
   {
    "duration": 95,
    "start_time": "2024-04-07T22:23:01.071Z"
   },
   {
    "duration": 1303,
    "start_time": "2024-04-07T22:23:01.168Z"
   },
   {
    "duration": 15,
    "start_time": "2024-04-07T22:23:02.472Z"
   },
   {
    "duration": 54,
    "start_time": "2024-04-07T22:23:03.001Z"
   },
   {
    "duration": 10,
    "start_time": "2024-04-07T22:23:16.524Z"
   },
   {
    "duration": 3,
    "start_time": "2024-04-07T22:23:22.749Z"
   },
   {
    "duration": 4,
    "start_time": "2024-04-07T22:23:23.993Z"
   },
   {
    "duration": 3,
    "start_time": "2024-04-07T22:23:31.234Z"
   },
   {
    "duration": 24,
    "start_time": "2024-04-07T22:23:33.185Z"
   },
   {
    "duration": 12,
    "start_time": "2024-04-07T22:24:15.715Z"
   },
   {
    "duration": 5,
    "start_time": "2024-04-07T22:25:41.611Z"
   },
   {
    "duration": 5,
    "start_time": "2024-04-07T22:25:54.868Z"
   },
   {
    "duration": 3,
    "start_time": "2024-04-07T22:25:56.601Z"
   },
   {
    "duration": 111,
    "start_time": "2024-04-07T22:26:04.186Z"
   },
   {
    "duration": 742,
    "start_time": "2024-04-07T22:26:07.418Z"
   },
   {
    "duration": 3,
    "start_time": "2024-04-07T22:27:44.411Z"
   },
   {
    "duration": 8,
    "start_time": "2024-04-07T22:27:53.223Z"
   },
   {
    "duration": 2,
    "start_time": "2024-04-07T22:27:54.335Z"
   },
   {
    "duration": 674,
    "start_time": "2024-04-07T22:28:07.437Z"
   },
   {
    "duration": 4,
    "start_time": "2024-04-07T22:29:33.806Z"
   },
   {
    "duration": 22,
    "start_time": "2024-04-07T22:29:35.110Z"
   },
   {
    "duration": 3,
    "start_time": "2024-04-07T22:29:48.452Z"
   },
   {
    "duration": 5,
    "start_time": "2024-04-07T22:29:49.400Z"
   },
   {
    "duration": 2,
    "start_time": "2024-04-07T22:29:50.074Z"
   },
   {
    "duration": 667,
    "start_time": "2024-04-07T22:29:50.555Z"
   },
   {
    "duration": 5,
    "start_time": "2024-04-07T22:30:17.295Z"
   },
   {
    "duration": 3,
    "start_time": "2024-04-07T22:30:18.906Z"
   },
   {
    "duration": 887,
    "start_time": "2024-04-07T22:30:26.064Z"
   },
   {
    "duration": 5,
    "start_time": "2024-04-07T22:31:04.669Z"
   },
   {
    "duration": 3,
    "start_time": "2024-04-07T22:31:05.375Z"
   },
   {
    "duration": 802,
    "start_time": "2024-04-07T22:31:05.896Z"
   },
   {
    "duration": 5,
    "start_time": "2024-04-07T22:31:13.010Z"
   },
   {
    "duration": 2,
    "start_time": "2024-04-07T22:31:13.339Z"
   },
   {
    "duration": 798,
    "start_time": "2024-04-07T22:31:13.611Z"
   },
   {
    "duration": 801,
    "start_time": "2024-04-07T22:31:23.956Z"
   },
   {
    "duration": 807,
    "start_time": "2024-04-07T22:31:26.559Z"
   },
   {
    "duration": 1450,
    "start_time": "2024-04-07T22:43:55.456Z"
   },
   {
    "duration": 469,
    "start_time": "2024-04-07T22:43:56.908Z"
   },
   {
    "duration": 129,
    "start_time": "2024-04-07T22:43:57.378Z"
   },
   {
    "duration": 40,
    "start_time": "2024-04-07T22:43:57.509Z"
   },
   {
    "duration": 74,
    "start_time": "2024-04-07T22:43:57.567Z"
   },
   {
    "duration": 111,
    "start_time": "2024-04-07T22:43:57.642Z"
   },
   {
    "duration": 275,
    "start_time": "2024-04-07T22:43:57.766Z"
   },
   {
    "duration": 267,
    "start_time": "2024-04-07T22:43:58.043Z"
   },
   {
    "duration": 261,
    "start_time": "2024-04-07T22:43:58.311Z"
   },
   {
    "duration": 277,
    "start_time": "2024-04-07T22:43:58.574Z"
   },
   {
    "duration": 354,
    "start_time": "2024-04-07T22:43:58.853Z"
   },
   {
    "duration": 249,
    "start_time": "2024-04-07T22:43:59.209Z"
   },
   {
    "duration": 257,
    "start_time": "2024-04-07T22:43:59.460Z"
   },
   {
    "duration": 273,
    "start_time": "2024-04-07T22:43:59.719Z"
   },
   {
    "duration": 274,
    "start_time": "2024-04-07T22:43:59.994Z"
   },
   {
    "duration": 279,
    "start_time": "2024-04-07T22:44:00.270Z"
   },
   {
    "duration": 295,
    "start_time": "2024-04-07T22:44:00.550Z"
   },
   {
    "duration": 258,
    "start_time": "2024-04-07T22:44:00.847Z"
   },
   {
    "duration": 12,
    "start_time": "2024-04-07T22:44:01.107Z"
   },
   {
    "duration": 67,
    "start_time": "2024-04-07T22:44:01.120Z"
   },
   {
    "duration": 172,
    "start_time": "2024-04-07T22:44:01.189Z"
   },
   {
    "duration": 3,
    "start_time": "2024-04-07T22:44:01.362Z"
   },
   {
    "duration": 50,
    "start_time": "2024-04-07T22:44:01.367Z"
   },
   {
    "duration": 48,
    "start_time": "2024-04-07T22:44:01.419Z"
   },
   {
    "duration": 145,
    "start_time": "2024-04-07T22:44:01.469Z"
   },
   {
    "duration": 1253,
    "start_time": "2024-04-07T22:44:01.616Z"
   },
   {
    "duration": 96,
    "start_time": "2024-04-07T22:44:02.871Z"
   },
   {
    "duration": 1295,
    "start_time": "2024-04-07T22:44:02.972Z"
   },
   {
    "duration": 15,
    "start_time": "2024-04-07T22:44:04.269Z"
   },
   {
    "duration": 1304,
    "start_time": "2024-04-07T22:44:04.367Z"
   },
   {
    "duration": 14,
    "start_time": "2024-04-07T22:44:05.673Z"
   },
   {
    "duration": 167,
    "start_time": "2024-04-07T22:44:05.767Z"
   },
   {
    "duration": 31,
    "start_time": "2024-04-07T22:44:05.936Z"
   },
   {
    "duration": 35,
    "start_time": "2024-04-07T22:44:05.969Z"
   },
   {
    "duration": 26,
    "start_time": "2024-04-07T22:44:06.005Z"
   },
   {
    "duration": 8,
    "start_time": "2024-04-07T22:44:06.033Z"
   },
   {
    "duration": 35,
    "start_time": "2024-04-07T22:44:06.043Z"
   },
   {
    "duration": 5,
    "start_time": "2024-04-07T22:44:06.079Z"
   },
   {
    "duration": 8,
    "start_time": "2024-04-07T22:44:06.085Z"
   },
   {
    "duration": 844,
    "start_time": "2024-04-07T22:44:06.094Z"
   },
   {
    "duration": 790,
    "start_time": "2024-04-07T22:44:06.940Z"
   },
   {
    "duration": 857,
    "start_time": "2024-04-07T22:44:07.732Z"
   },
   {
    "duration": 105,
    "start_time": "2024-04-07T22:44:49.632Z"
   },
   {
    "duration": 1329,
    "start_time": "2024-04-07T22:45:35.874Z"
   },
   {
    "duration": 448,
    "start_time": "2024-04-07T22:45:37.205Z"
   },
   {
    "duration": 140,
    "start_time": "2024-04-07T22:45:37.654Z"
   },
   {
    "duration": 44,
    "start_time": "2024-04-07T22:45:37.795Z"
   },
   {
    "duration": 92,
    "start_time": "2024-04-07T22:45:37.841Z"
   },
   {
    "duration": 109,
    "start_time": "2024-04-07T22:45:37.935Z"
   },
   {
    "duration": 291,
    "start_time": "2024-04-07T22:45:38.046Z"
   },
   {
    "duration": 259,
    "start_time": "2024-04-07T22:45:38.338Z"
   },
   {
    "duration": 275,
    "start_time": "2024-04-07T22:45:38.599Z"
   },
   {
    "duration": 269,
    "start_time": "2024-04-07T22:45:38.875Z"
   },
   {
    "duration": 337,
    "start_time": "2024-04-07T22:45:39.146Z"
   },
   {
    "duration": 267,
    "start_time": "2024-04-07T22:45:39.485Z"
   },
   {
    "duration": 254,
    "start_time": "2024-04-07T22:45:39.754Z"
   },
   {
    "duration": 264,
    "start_time": "2024-04-07T22:45:40.011Z"
   },
   {
    "duration": 266,
    "start_time": "2024-04-07T22:45:40.276Z"
   },
   {
    "duration": 289,
    "start_time": "2024-04-07T22:45:40.544Z"
   },
   {
    "duration": 284,
    "start_time": "2024-04-07T22:45:40.835Z"
   },
   {
    "duration": 272,
    "start_time": "2024-04-07T22:45:41.120Z"
   },
   {
    "duration": 9,
    "start_time": "2024-04-07T22:45:41.394Z"
   },
   {
    "duration": 47,
    "start_time": "2024-04-07T22:45:41.404Z"
   },
   {
    "duration": 135,
    "start_time": "2024-04-07T22:45:41.452Z"
   },
   {
    "duration": 2,
    "start_time": "2024-04-07T22:45:41.589Z"
   },
   {
    "duration": 18,
    "start_time": "2024-04-07T22:45:41.593Z"
   },
   {
    "duration": 7,
    "start_time": "2024-04-07T22:45:41.613Z"
   },
   {
    "duration": 8,
    "start_time": "2024-04-07T22:45:41.621Z"
   },
   {
    "duration": 1236,
    "start_time": "2024-04-07T22:45:41.630Z"
   },
   {
    "duration": 14,
    "start_time": "2024-04-07T22:45:42.868Z"
   },
   {
    "duration": 1385,
    "start_time": "2024-04-07T22:45:42.884Z"
   },
   {
    "duration": 13,
    "start_time": "2024-04-07T22:45:44.271Z"
   },
   {
    "duration": 1385,
    "start_time": "2024-04-07T22:45:44.286Z"
   },
   {
    "duration": 14,
    "start_time": "2024-04-07T22:45:45.672Z"
   },
   {
    "duration": 237,
    "start_time": "2024-04-07T22:45:45.688Z"
   },
   {
    "duration": 11,
    "start_time": "2024-04-07T22:45:45.927Z"
   },
   {
    "duration": 12,
    "start_time": "2024-04-07T22:45:45.939Z"
   },
   {
    "duration": 8,
    "start_time": "2024-04-07T22:45:45.965Z"
   },
   {
    "duration": 12,
    "start_time": "2024-04-07T22:45:45.974Z"
   },
   {
    "duration": 33,
    "start_time": "2024-04-07T22:45:45.987Z"
   },
   {
    "duration": 5,
    "start_time": "2024-04-07T22:45:46.022Z"
   },
   {
    "duration": 9,
    "start_time": "2024-04-07T22:45:46.029Z"
   },
   {
    "duration": 810,
    "start_time": "2024-04-07T22:45:46.040Z"
   },
   {
    "duration": 809,
    "start_time": "2024-04-07T22:45:46.853Z"
   },
   {
    "duration": 787,
    "start_time": "2024-04-07T22:45:47.665Z"
   },
   {
    "duration": 1374,
    "start_time": "2024-04-08T04:49:42.951Z"
   },
   {
    "duration": 371,
    "start_time": "2024-04-08T04:49:45.657Z"
   },
   {
    "duration": 101,
    "start_time": "2024-04-08T04:49:51.498Z"
   },
   {
    "duration": 36,
    "start_time": "2024-04-08T04:49:51.994Z"
   },
   {
    "duration": 48,
    "start_time": "2024-04-08T04:50:03.593Z"
   },
   {
    "duration": 72,
    "start_time": "2024-04-08T04:50:10.830Z"
   },
   {
    "duration": 22,
    "start_time": "2024-04-08T04:53:25.790Z"
   },
   {
    "duration": 101,
    "start_time": "2024-04-08T04:53:26.382Z"
   },
   {
    "duration": 2,
    "start_time": "2024-04-08T04:53:31.274Z"
   },
   {
    "duration": 3,
    "start_time": "2024-04-08T04:53:32.024Z"
   },
   {
    "duration": 2,
    "start_time": "2024-04-08T04:53:33.647Z"
   },
   {
    "duration": 3,
    "start_time": "2024-04-08T04:53:38.242Z"
   },
   {
    "duration": 949,
    "start_time": "2024-04-08T04:53:39.454Z"
   },
   {
    "duration": 15,
    "start_time": "2024-04-08T04:53:50.374Z"
   },
   {
    "duration": 836,
    "start_time": "2024-04-08T04:53:52.566Z"
   },
   {
    "duration": 11,
    "start_time": "2024-04-08T04:54:01.027Z"
   },
   {
    "duration": 936,
    "start_time": "2024-04-08T04:54:03.871Z"
   },
   {
    "duration": 11,
    "start_time": "2024-04-08T04:54:04.808Z"
   },
   {
    "duration": 2,
    "start_time": "2024-04-08T04:57:21.399Z"
   },
   {
    "duration": 2,
    "start_time": "2024-04-08T04:57:36.276Z"
   },
   {
    "duration": 95,
    "start_time": "2024-04-08T04:59:15.840Z"
   },
   {
    "duration": 3,
    "start_time": "2024-04-08T04:59:19.324Z"
   },
   {
    "duration": 8,
    "start_time": "2024-04-08T04:59:20.608Z"
   },
   {
    "duration": 4,
    "start_time": "2024-04-08T04:59:31.607Z"
   },
   {
    "duration": 435,
    "start_time": "2024-04-08T04:59:31.613Z"
   },
   {
    "duration": 106,
    "start_time": "2024-04-08T04:59:32.049Z"
   },
   {
    "duration": 47,
    "start_time": "2024-04-08T04:59:32.157Z"
   },
   {
    "duration": 60,
    "start_time": "2024-04-08T04:59:32.206Z"
   },
   {
    "duration": 82,
    "start_time": "2024-04-08T04:59:32.268Z"
   },
   {
    "duration": 345,
    "start_time": "2024-04-08T04:59:32.352Z"
   },
   {
    "duration": 347,
    "start_time": "2024-04-08T04:59:32.698Z"
   },
   {
    "duration": 340,
    "start_time": "2024-04-08T04:59:33.046Z"
   },
   {
    "duration": 387,
    "start_time": "2024-04-08T04:59:33.387Z"
   },
   {
    "duration": 345,
    "start_time": "2024-04-08T04:59:33.776Z"
   },
   {
    "duration": 314,
    "start_time": "2024-04-08T04:59:34.122Z"
   },
   {
    "duration": 319,
    "start_time": "2024-04-08T04:59:34.437Z"
   },
   {
    "duration": 358,
    "start_time": "2024-04-08T04:59:34.759Z"
   },
   {
    "duration": 328,
    "start_time": "2024-04-08T04:59:35.118Z"
   },
   {
    "duration": 322,
    "start_time": "2024-04-08T04:59:35.447Z"
   },
   {
    "duration": 369,
    "start_time": "2024-04-08T04:59:35.771Z"
   },
   {
    "duration": 345,
    "start_time": "2024-04-08T04:59:36.142Z"
   },
   {
    "duration": 14,
    "start_time": "2024-04-08T04:59:36.488Z"
   },
   {
    "duration": 23,
    "start_time": "2024-04-08T04:59:36.503Z"
   },
   {
    "duration": 112,
    "start_time": "2024-04-08T04:59:36.527Z"
   },
   {
    "duration": 1,
    "start_time": "2024-04-08T04:59:36.641Z"
   },
   {
    "duration": 26,
    "start_time": "2024-04-08T04:59:36.644Z"
   },
   {
    "duration": 7,
    "start_time": "2024-04-08T04:59:36.672Z"
   },
   {
    "duration": 18,
    "start_time": "2024-04-08T04:59:36.680Z"
   },
   {
    "duration": 1009,
    "start_time": "2024-04-08T04:59:36.699Z"
   },
   {
    "duration": 99,
    "start_time": "2024-04-08T04:59:37.709Z"
   },
   {
    "duration": 1102,
    "start_time": "2024-04-08T04:59:37.809Z"
   },
   {
    "duration": 11,
    "start_time": "2024-04-08T04:59:38.912Z"
   },
   {
    "duration": 1089,
    "start_time": "2024-04-08T04:59:38.924Z"
   },
   {
    "duration": 14,
    "start_time": "2024-04-08T04:59:40.102Z"
   },
   {
    "duration": 218,
    "start_time": "2024-04-08T04:59:40.119Z"
   },
   {
    "duration": 9,
    "start_time": "2024-04-08T04:59:40.338Z"
   },
   {
    "duration": 26,
    "start_time": "2024-04-08T04:59:40.348Z"
   },
   {
    "duration": 20,
    "start_time": "2024-04-08T04:59:40.376Z"
   },
   {
    "duration": 7,
    "start_time": "2024-04-08T04:59:40.397Z"
   },
   {
    "duration": 34,
    "start_time": "2024-04-08T04:59:40.406Z"
   },
   {
    "duration": 4,
    "start_time": "2024-04-08T05:00:37.245Z"
   },
   {
    "duration": 3,
    "start_time": "2024-04-08T05:00:37.620Z"
   },
   {
    "duration": 580,
    "start_time": "2024-04-08T05:00:38.368Z"
   },
   {
    "duration": 577,
    "start_time": "2024-04-08T05:00:40.904Z"
   },
   {
    "duration": 533,
    "start_time": "2024-04-08T05:00:42.741Z"
   }
  ],
  "kernelspec": {
   "display_name": "Python 3 (ipykernel)",
   "language": "python",
   "name": "python3"
  },
  "language_info": {
   "codemirror_mode": {
    "name": "ipython",
    "version": 3
   },
   "file_extension": ".py",
   "mimetype": "text/x-python",
   "name": "python",
   "nbconvert_exporter": "python",
   "pygments_lexer": "ipython3",
   "version": "3.9.5"
  },
  "toc": {
   "base_numbering": 1,
   "nav_menu": {},
   "number_sections": true,
   "sideBar": true,
   "skip_h1_title": true,
   "title_cell": "Table of Contents",
   "title_sidebar": "Contents",
   "toc_cell": false,
   "toc_position": {},
   "toc_section_display": true,
   "toc_window_display": false
  }
 },
 "nbformat": 4,
 "nbformat_minor": 2
}
